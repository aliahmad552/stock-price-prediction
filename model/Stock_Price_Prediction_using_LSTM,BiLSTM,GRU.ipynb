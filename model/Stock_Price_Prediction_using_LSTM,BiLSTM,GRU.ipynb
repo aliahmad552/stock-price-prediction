{
  "nbformat": 4,
  "nbformat_minor": 0,
  "metadata": {
    "colab": {
      "provenance": [],
      "gpuType": "T4"
    },
    "kernelspec": {
      "name": "python3",
      "display_name": "Python 3"
    },
    "language_info": {
      "name": "python"
    },
    "accelerator": "GPU"
  },
  "cells": [
    {
      "cell_type": "markdown",
      "source": [
        "# GOOG Stock Price Prediction — Multi-feature LSTM/BiLSTM/GRU\n",
        "**What we'll do in this notebook (overview)**  \n",
        "1. Load GOOG historical data (Yahoo Finance)  \n",
        "2. Exploratory Data Analysis (EDA) — understand the data and distributions  \n",
        "3. Preprocessing — select features, handle missing values, scale features  \n",
        "4. Create sequences (multivariate) for LSTM models (X = sequences of features, y = next-day Close)  \n",
        "5. Train/validation/test split (time-series safe split)  \n",
        "6. Build and train three models: LSTM, BiLSTM, GRU  \n",
        "7. Evaluate models (RMSE, MAE, R²) and visualize predictions  \n",
        "8. Forecast next 30 days (using last available window)  \n",
        "9. Save models & scaler for deployment  \n"
      ],
      "metadata": {
        "id": "lrUrZB7kBRI_"
      }
    },
    {
      "cell_type": "code",
      "execution_count": 1,
      "metadata": {
        "id": "E9WOW1qirlxK"
      },
      "outputs": [],
      "source": [
        "# Cell 2 — Imports & seeds\n",
        "import numpy as np\n",
        "import pandas as pd\n",
        "import matplotlib.pyplot as plt\n",
        "import seaborn as sns\n",
        "import yfinance as yf\n",
        "import os\n",
        "import math\n",
        "import datetime\n",
        "\n",
        "import tensorflow as tf\n",
        "from tensorflow.keras.models import Sequential\n",
        "from tensorflow.keras.layers import LSTM, GRU, Bidirectional, Dense, Dropout\n",
        "from tensorflow.keras.callbacks import EarlyStopping, ReduceLROnPlateau, ModelCheckpoint\n",
        "\n",
        "from sklearn.preprocessing import MinMaxScaler\n",
        "from sklearn.metrics import mean_squared_error, mean_absolute_error, r2_score\n",
        "\n",
        "# Reproducibility\n",
        "RANDOM_SEED = 42\n",
        "np.random.seed(RANDOM_SEED)\n",
        "tf.random.set_seed(RANDOM_SEED)"
      ]
    },
    {
      "cell_type": "markdown",
      "source": [
        "## Why multiple features?\n",
        "Using `Open, High, Low, Close, Volume` gives the model more context about intraday range and market activity.  \n",
        "**Benefit:** More informative input → model can learn richer patterns than using `Close` only.\n"
      ],
      "metadata": {
        "id": "4KYP9aG8Besp"
      }
    },
    {
      "cell_type": "code",
      "source": [
        "# Cell 2 — Configuration & Hyperparameters\n",
        "TICKER = \"GOOG\"\n",
        "START = \"2015-01-01\"\n",
        "END = datetime.date.today().strftime(\"%Y-%m-%d\")\n",
        "SEQ_LEN = 60         # how many past days we feed to predict next day\n",
        "FUTURE_DAYS = 30     # forecast horizon for final demo\n",
        "TEST_RATIO = 0.15\n",
        "VAL_RATIO = 0.10\n",
        "BATCH = 32\n",
        "EPOCHS = 30\n",
        "MODEL_DIR = \"saved_models\"\n",
        "os.makedirs(MODEL_DIR, exist_ok=True)\n",
        "\n",
        "print(\"Config:\", TICKER, START, END)\n"
      ],
      "metadata": {
        "colab": {
          "base_uri": "https://localhost:8080/"
        },
        "id": "8TkgfPtDr0kf",
        "outputId": "4dfa6c0d-8670-4578-de88-a099ec3ad8c7"
      },
      "execution_count": 2,
      "outputs": [
        {
          "output_type": "stream",
          "name": "stdout",
          "text": [
            "Config: GOOG 2015-01-01 2025-10-14\n"
          ]
        }
      ]
    },
    {
      "cell_type": "markdown",
      "source": [
        "## Step 1 — Download data\n",
        "We use `yfinance` to fetch historical OHLCV (Open, High, Low, Close, Volume)."
      ],
      "metadata": {
        "id": "zfui-AVFB0_h"
      }
    },
    {
      "cell_type": "code",
      "source": [
        "# Cell 3 — Download data\n",
        "df = yf.download(TICKER, start=START, end=END)\n",
        "df.head()\n"
      ],
      "metadata": {
        "colab": {
          "base_uri": "https://localhost:8080/",
          "height": 321
        },
        "id": "FhmZhwN9r7Gv",
        "outputId": "0bd2131e-aa17-4854-8cf4-ec6b39fbb4bd"
      },
      "execution_count": 3,
      "outputs": [
        {
          "output_type": "stream",
          "name": "stderr",
          "text": [
            "/tmp/ipython-input-1167931927.py:2: FutureWarning: YF.download() has changed argument auto_adjust default to True\n",
            "  df = yf.download(TICKER, start=START, end=END)\n",
            "[*********************100%***********************]  1 of 1 completed\n"
          ]
        },
        {
          "output_type": "execute_result",
          "data": {
            "text/plain": [
              "Price           Close       High        Low       Open    Volume\n",
              "Ticker           GOOG       GOOG       GOOG       GOOG      GOOG\n",
              "Date                                                            \n",
              "2015-01-02  25.990789  26.310717  25.955628  26.198791  28951268\n",
              "2015-01-05  25.448999  25.967023  25.408886  25.914031  41196796\n",
              "2015-01-06  24.859165  25.563153  24.814100  25.504961  57998800\n",
              "2015-01-07  24.816576  25.120852  24.744766  25.108768  41301082\n",
              "2015-01-08  24.894821  24.934440  24.316378  24.662553  67071641"
            ],
            "text/html": [
              "\n",
              "  <div id=\"df-c08a90f5-979f-4b5b-b94b-e3b5b0e6d3d1\" class=\"colab-df-container\">\n",
              "    <div>\n",
              "<style scoped>\n",
              "    .dataframe tbody tr th:only-of-type {\n",
              "        vertical-align: middle;\n",
              "    }\n",
              "\n",
              "    .dataframe tbody tr th {\n",
              "        vertical-align: top;\n",
              "    }\n",
              "\n",
              "    .dataframe thead tr th {\n",
              "        text-align: left;\n",
              "    }\n",
              "\n",
              "    .dataframe thead tr:last-of-type th {\n",
              "        text-align: right;\n",
              "    }\n",
              "</style>\n",
              "<table border=\"1\" class=\"dataframe\">\n",
              "  <thead>\n",
              "    <tr>\n",
              "      <th>Price</th>\n",
              "      <th>Close</th>\n",
              "      <th>High</th>\n",
              "      <th>Low</th>\n",
              "      <th>Open</th>\n",
              "      <th>Volume</th>\n",
              "    </tr>\n",
              "    <tr>\n",
              "      <th>Ticker</th>\n",
              "      <th>GOOG</th>\n",
              "      <th>GOOG</th>\n",
              "      <th>GOOG</th>\n",
              "      <th>GOOG</th>\n",
              "      <th>GOOG</th>\n",
              "    </tr>\n",
              "    <tr>\n",
              "      <th>Date</th>\n",
              "      <th></th>\n",
              "      <th></th>\n",
              "      <th></th>\n",
              "      <th></th>\n",
              "      <th></th>\n",
              "    </tr>\n",
              "  </thead>\n",
              "  <tbody>\n",
              "    <tr>\n",
              "      <th>2015-01-02</th>\n",
              "      <td>25.990789</td>\n",
              "      <td>26.310717</td>\n",
              "      <td>25.955628</td>\n",
              "      <td>26.198791</td>\n",
              "      <td>28951268</td>\n",
              "    </tr>\n",
              "    <tr>\n",
              "      <th>2015-01-05</th>\n",
              "      <td>25.448999</td>\n",
              "      <td>25.967023</td>\n",
              "      <td>25.408886</td>\n",
              "      <td>25.914031</td>\n",
              "      <td>41196796</td>\n",
              "    </tr>\n",
              "    <tr>\n",
              "      <th>2015-01-06</th>\n",
              "      <td>24.859165</td>\n",
              "      <td>25.563153</td>\n",
              "      <td>24.814100</td>\n",
              "      <td>25.504961</td>\n",
              "      <td>57998800</td>\n",
              "    </tr>\n",
              "    <tr>\n",
              "      <th>2015-01-07</th>\n",
              "      <td>24.816576</td>\n",
              "      <td>25.120852</td>\n",
              "      <td>24.744766</td>\n",
              "      <td>25.108768</td>\n",
              "      <td>41301082</td>\n",
              "    </tr>\n",
              "    <tr>\n",
              "      <th>2015-01-08</th>\n",
              "      <td>24.894821</td>\n",
              "      <td>24.934440</td>\n",
              "      <td>24.316378</td>\n",
              "      <td>24.662553</td>\n",
              "      <td>67071641</td>\n",
              "    </tr>\n",
              "  </tbody>\n",
              "</table>\n",
              "</div>\n",
              "    <div class=\"colab-df-buttons\">\n",
              "\n",
              "  <div class=\"colab-df-container\">\n",
              "    <button class=\"colab-df-convert\" onclick=\"convertToInteractive('df-c08a90f5-979f-4b5b-b94b-e3b5b0e6d3d1')\"\n",
              "            title=\"Convert this dataframe to an interactive table.\"\n",
              "            style=\"display:none;\">\n",
              "\n",
              "  <svg xmlns=\"http://www.w3.org/2000/svg\" height=\"24px\" viewBox=\"0 -960 960 960\">\n",
              "    <path d=\"M120-120v-720h720v720H120Zm60-500h600v-160H180v160Zm220 220h160v-160H400v160Zm0 220h160v-160H400v160ZM180-400h160v-160H180v160Zm440 0h160v-160H620v160ZM180-180h160v-160H180v160Zm440 0h160v-160H620v160Z\"/>\n",
              "  </svg>\n",
              "    </button>\n",
              "\n",
              "  <style>\n",
              "    .colab-df-container {\n",
              "      display:flex;\n",
              "      gap: 12px;\n",
              "    }\n",
              "\n",
              "    .colab-df-convert {\n",
              "      background-color: #E8F0FE;\n",
              "      border: none;\n",
              "      border-radius: 50%;\n",
              "      cursor: pointer;\n",
              "      display: none;\n",
              "      fill: #1967D2;\n",
              "      height: 32px;\n",
              "      padding: 0 0 0 0;\n",
              "      width: 32px;\n",
              "    }\n",
              "\n",
              "    .colab-df-convert:hover {\n",
              "      background-color: #E2EBFA;\n",
              "      box-shadow: 0px 1px 2px rgba(60, 64, 67, 0.3), 0px 1px 3px 1px rgba(60, 64, 67, 0.15);\n",
              "      fill: #174EA6;\n",
              "    }\n",
              "\n",
              "    .colab-df-buttons div {\n",
              "      margin-bottom: 4px;\n",
              "    }\n",
              "\n",
              "    [theme=dark] .colab-df-convert {\n",
              "      background-color: #3B4455;\n",
              "      fill: #D2E3FC;\n",
              "    }\n",
              "\n",
              "    [theme=dark] .colab-df-convert:hover {\n",
              "      background-color: #434B5C;\n",
              "      box-shadow: 0px 1px 3px 1px rgba(0, 0, 0, 0.15);\n",
              "      filter: drop-shadow(0px 1px 2px rgba(0, 0, 0, 0.3));\n",
              "      fill: #FFFFFF;\n",
              "    }\n",
              "  </style>\n",
              "\n",
              "    <script>\n",
              "      const buttonEl =\n",
              "        document.querySelector('#df-c08a90f5-979f-4b5b-b94b-e3b5b0e6d3d1 button.colab-df-convert');\n",
              "      buttonEl.style.display =\n",
              "        google.colab.kernel.accessAllowed ? 'block' : 'none';\n",
              "\n",
              "      async function convertToInteractive(key) {\n",
              "        const element = document.querySelector('#df-c08a90f5-979f-4b5b-b94b-e3b5b0e6d3d1');\n",
              "        const dataTable =\n",
              "          await google.colab.kernel.invokeFunction('convertToInteractive',\n",
              "                                                    [key], {});\n",
              "        if (!dataTable) return;\n",
              "\n",
              "        const docLinkHtml = 'Like what you see? Visit the ' +\n",
              "          '<a target=\"_blank\" href=https://colab.research.google.com/notebooks/data_table.ipynb>data table notebook</a>'\n",
              "          + ' to learn more about interactive tables.';\n",
              "        element.innerHTML = '';\n",
              "        dataTable['output_type'] = 'display_data';\n",
              "        await google.colab.output.renderOutput(dataTable, element);\n",
              "        const docLink = document.createElement('div');\n",
              "        docLink.innerHTML = docLinkHtml;\n",
              "        element.appendChild(docLink);\n",
              "      }\n",
              "    </script>\n",
              "  </div>\n",
              "\n",
              "\n",
              "    <div id=\"df-0e70310c-99d2-49a6-a136-0acdd90054d8\">\n",
              "      <button class=\"colab-df-quickchart\" onclick=\"quickchart('df-0e70310c-99d2-49a6-a136-0acdd90054d8')\"\n",
              "                title=\"Suggest charts\"\n",
              "                style=\"display:none;\">\n",
              "\n",
              "<svg xmlns=\"http://www.w3.org/2000/svg\" height=\"24px\"viewBox=\"0 0 24 24\"\n",
              "     width=\"24px\">\n",
              "    <g>\n",
              "        <path d=\"M19 3H5c-1.1 0-2 .9-2 2v14c0 1.1.9 2 2 2h14c1.1 0 2-.9 2-2V5c0-1.1-.9-2-2-2zM9 17H7v-7h2v7zm4 0h-2V7h2v10zm4 0h-2v-4h2v4z\"/>\n",
              "    </g>\n",
              "</svg>\n",
              "      </button>\n",
              "\n",
              "<style>\n",
              "  .colab-df-quickchart {\n",
              "      --bg-color: #E8F0FE;\n",
              "      --fill-color: #1967D2;\n",
              "      --hover-bg-color: #E2EBFA;\n",
              "      --hover-fill-color: #174EA6;\n",
              "      --disabled-fill-color: #AAA;\n",
              "      --disabled-bg-color: #DDD;\n",
              "  }\n",
              "\n",
              "  [theme=dark] .colab-df-quickchart {\n",
              "      --bg-color: #3B4455;\n",
              "      --fill-color: #D2E3FC;\n",
              "      --hover-bg-color: #434B5C;\n",
              "      --hover-fill-color: #FFFFFF;\n",
              "      --disabled-bg-color: #3B4455;\n",
              "      --disabled-fill-color: #666;\n",
              "  }\n",
              "\n",
              "  .colab-df-quickchart {\n",
              "    background-color: var(--bg-color);\n",
              "    border: none;\n",
              "    border-radius: 50%;\n",
              "    cursor: pointer;\n",
              "    display: none;\n",
              "    fill: var(--fill-color);\n",
              "    height: 32px;\n",
              "    padding: 0;\n",
              "    width: 32px;\n",
              "  }\n",
              "\n",
              "  .colab-df-quickchart:hover {\n",
              "    background-color: var(--hover-bg-color);\n",
              "    box-shadow: 0 1px 2px rgba(60, 64, 67, 0.3), 0 1px 3px 1px rgba(60, 64, 67, 0.15);\n",
              "    fill: var(--button-hover-fill-color);\n",
              "  }\n",
              "\n",
              "  .colab-df-quickchart-complete:disabled,\n",
              "  .colab-df-quickchart-complete:disabled:hover {\n",
              "    background-color: var(--disabled-bg-color);\n",
              "    fill: var(--disabled-fill-color);\n",
              "    box-shadow: none;\n",
              "  }\n",
              "\n",
              "  .colab-df-spinner {\n",
              "    border: 2px solid var(--fill-color);\n",
              "    border-color: transparent;\n",
              "    border-bottom-color: var(--fill-color);\n",
              "    animation:\n",
              "      spin 1s steps(1) infinite;\n",
              "  }\n",
              "\n",
              "  @keyframes spin {\n",
              "    0% {\n",
              "      border-color: transparent;\n",
              "      border-bottom-color: var(--fill-color);\n",
              "      border-left-color: var(--fill-color);\n",
              "    }\n",
              "    20% {\n",
              "      border-color: transparent;\n",
              "      border-left-color: var(--fill-color);\n",
              "      border-top-color: var(--fill-color);\n",
              "    }\n",
              "    30% {\n",
              "      border-color: transparent;\n",
              "      border-left-color: var(--fill-color);\n",
              "      border-top-color: var(--fill-color);\n",
              "      border-right-color: var(--fill-color);\n",
              "    }\n",
              "    40% {\n",
              "      border-color: transparent;\n",
              "      border-right-color: var(--fill-color);\n",
              "      border-top-color: var(--fill-color);\n",
              "    }\n",
              "    60% {\n",
              "      border-color: transparent;\n",
              "      border-right-color: var(--fill-color);\n",
              "    }\n",
              "    80% {\n",
              "      border-color: transparent;\n",
              "      border-right-color: var(--fill-color);\n",
              "      border-bottom-color: var(--fill-color);\n",
              "    }\n",
              "    90% {\n",
              "      border-color: transparent;\n",
              "      border-bottom-color: var(--fill-color);\n",
              "    }\n",
              "  }\n",
              "</style>\n",
              "\n",
              "      <script>\n",
              "        async function quickchart(key) {\n",
              "          const quickchartButtonEl =\n",
              "            document.querySelector('#' + key + ' button');\n",
              "          quickchartButtonEl.disabled = true;  // To prevent multiple clicks.\n",
              "          quickchartButtonEl.classList.add('colab-df-spinner');\n",
              "          try {\n",
              "            const charts = await google.colab.kernel.invokeFunction(\n",
              "                'suggestCharts', [key], {});\n",
              "          } catch (error) {\n",
              "            console.error('Error during call to suggestCharts:', error);\n",
              "          }\n",
              "          quickchartButtonEl.classList.remove('colab-df-spinner');\n",
              "          quickchartButtonEl.classList.add('colab-df-quickchart-complete');\n",
              "        }\n",
              "        (() => {\n",
              "          let quickchartButtonEl =\n",
              "            document.querySelector('#df-0e70310c-99d2-49a6-a136-0acdd90054d8 button');\n",
              "          quickchartButtonEl.style.display =\n",
              "            google.colab.kernel.accessAllowed ? 'block' : 'none';\n",
              "        })();\n",
              "      </script>\n",
              "    </div>\n",
              "\n",
              "    </div>\n",
              "  </div>\n"
            ],
            "application/vnd.google.colaboratory.intrinsic+json": {
              "type": "dataframe",
              "variable_name": "df",
              "summary": "{\n  \"name\": \"df\",\n  \"rows\": 2711,\n  \"fields\": [\n    {\n      \"column\": [\n        \"Date\",\n        \"\"\n      ],\n      \"properties\": {\n        \"dtype\": \"date\",\n        \"min\": \"2015-01-02 00:00:00\",\n        \"max\": \"2025-10-13 00:00:00\",\n        \"num_unique_values\": 2711,\n        \"samples\": [\n          \"2025-09-05 00:00:00\",\n          \"2024-11-05 00:00:00\",\n          \"2016-12-06 00:00:00\"\n        ],\n        \"semantic_type\": \"\",\n        \"description\": \"\"\n      }\n    },\n    {\n      \"column\": [\n        \"Close\",\n        \"GOOG\"\n      ],\n      \"properties\": {\n        \"dtype\": \"number\",\n        \"std\": 51.34171596960366,\n        \"min\": 24.39314079284668,\n        \"max\": 255.24000549316406,\n        \"num_unique_values\": 2672,\n        \"samples\": [\n          123.23666381835938,\n          64.49861907958984,\n          86.42805480957031\n        ],\n        \"semantic_type\": \"\",\n        \"description\": \"\"\n      }\n    },\n    {\n      \"column\": [\n        \"High\",\n        \"GOOG\"\n      ],\n      \"properties\": {\n        \"dtype\": \"number\",\n        \"std\": 51.902340063925095,\n        \"min\": 24.562811368824818,\n        \"max\": 256.70001220703125,\n        \"num_unique_values\": 2711,\n        \"samples\": [\n          235.9191408833356,\n          171.34705817597293,\n          38.18022955990541\n        ],\n        \"semantic_type\": \"\",\n        \"description\": \"\"\n      }\n    },\n    {\n      \"column\": [\n        \"Low\",\n        \"GOOG\"\n      ],\n      \"properties\": {\n        \"dtype\": \"number\",\n        \"std\": 50.7489750125405,\n        \"min\": 24.146014504927287,\n        \"max\": 252.0679931640625,\n        \"num_unique_values\": 2711,\n        \"samples\": [\n          232.17248963182874,\n          169.6275788891059,\n          37.609633184244174\n        ],\n        \"semantic_type\": \"\",\n        \"description\": \"\"\n      }\n    },\n    {\n      \"column\": [\n        \"Open\",\n        \"GOOG\"\n      ],\n      \"properties\": {\n        \"dtype\": \"number\",\n        \"std\": 51.29528647419589,\n        \"min\": 24.497143170797198,\n        \"max\": 254.77999877929688,\n        \"num_unique_values\": 2711,\n        \"samples\": [\n          232.4522383723282,\n          170.08558104548533,\n          37.976621047216106\n        ],\n        \"semantic_type\": \"\",\n        \"description\": \"\"\n      }\n    },\n    {\n      \"column\": [\n        \"Volume\",\n        \"GOOG\"\n      ],\n      \"properties\": {\n        \"dtype\": \"number\",\n        \"std\": 15171274,\n        \"min\": 6809800,\n        \"max\": 223298000,\n        \"num_unique_values\": 2626,\n        \"samples\": [\n          26542000,\n          27060000,\n          38648000\n        ],\n        \"semantic_type\": \"\",\n        \"description\": \"\"\n      }\n    }\n  ]\n}"
            }
          },
          "metadata": {},
          "execution_count": 3
        }
      ]
    },
    {
      "cell_type": "code",
      "source": [],
      "metadata": {
        "id": "Q457hRvBsfzf"
      },
      "execution_count": 3,
      "outputs": []
    },
    {
      "cell_type": "markdown",
      "source": [
        "## Quick EDA — understand shape and missing values\n",
        "We check basic stats, visualize Close price, and view correlations."
      ],
      "metadata": {
        "id": "i2TMODFqB_80"
      }
    },
    {
      "cell_type": "code",
      "source": [
        "print(\"Shape:\", df.shape)\n",
        "print(\"\\nMissing values per column:\\n\", df.isnull().sum())\n",
        "display(df.describe().T)"
      ],
      "metadata": {
        "colab": {
          "base_uri": "https://localhost:8080/",
          "height": 431
        },
        "id": "gX0Vjxuxr--o",
        "outputId": "e9657e73-404c-4be8-ce46-10b00fb92946"
      },
      "execution_count": 4,
      "outputs": [
        {
          "output_type": "stream",
          "name": "stdout",
          "text": [
            "Shape: (2711, 5)\n",
            "\n",
            "Missing values per column:\n",
            " Price   Ticker\n",
            "Close   GOOG      0\n",
            "High    GOOG      0\n",
            "Low     GOOG      0\n",
            "Open    GOOG      0\n",
            "Volume  GOOG      0\n",
            "dtype: int64\n"
          ]
        },
        {
          "output_type": "display_data",
          "data": {
            "text/plain": [
              "                count          mean           std           min           25%  \\\n",
              "Price  Ticker                                                                   \n",
              "Close  GOOG    2711.0  8.991992e+01  5.134172e+01  2.439314e+01  4.763800e+01   \n",
              "High   GOOG    2711.0  9.084674e+01  5.190234e+01  2.456281e+01  4.802237e+01   \n",
              "Low    GOOG    2711.0  8.894826e+01  5.074898e+01  2.414601e+01  4.723427e+01   \n",
              "Open   GOOG    2711.0  8.985805e+01  5.129529e+01  2.449714e+01  4.757990e+01   \n",
              "Volume GOOG    2711.0  3.025954e+07  1.517127e+07  6.809800e+06  2.088280e+07   \n",
              "\n",
              "                        50%           75%           max  \n",
              "Price  Ticker                                            \n",
              "Close  GOOG    7.147240e+01  1.322152e+02  2.552400e+02  \n",
              "High   GOOG    7.210606e+01  1.331786e+02  2.567000e+02  \n",
              "Low    GOOG    7.083029e+01  1.303463e+02  2.520680e+02  \n",
              "Open   GOOG    7.163379e+01  1.320066e+02  2.547800e+02  \n",
              "Volume GOOG    2.656600e+07  3.502600e+07  2.232980e+08  "
            ],
            "text/html": [
              "\n",
              "  <div id=\"df-9887f430-b293-4cc2-86b8-62803b412c99\" class=\"colab-df-container\">\n",
              "    <div>\n",
              "<style scoped>\n",
              "    .dataframe tbody tr th:only-of-type {\n",
              "        vertical-align: middle;\n",
              "    }\n",
              "\n",
              "    .dataframe tbody tr th {\n",
              "        vertical-align: top;\n",
              "    }\n",
              "\n",
              "    .dataframe thead th {\n",
              "        text-align: right;\n",
              "    }\n",
              "</style>\n",
              "<table border=\"1\" class=\"dataframe\">\n",
              "  <thead>\n",
              "    <tr style=\"text-align: right;\">\n",
              "      <th></th>\n",
              "      <th></th>\n",
              "      <th>count</th>\n",
              "      <th>mean</th>\n",
              "      <th>std</th>\n",
              "      <th>min</th>\n",
              "      <th>25%</th>\n",
              "      <th>50%</th>\n",
              "      <th>75%</th>\n",
              "      <th>max</th>\n",
              "    </tr>\n",
              "    <tr>\n",
              "      <th>Price</th>\n",
              "      <th>Ticker</th>\n",
              "      <th></th>\n",
              "      <th></th>\n",
              "      <th></th>\n",
              "      <th></th>\n",
              "      <th></th>\n",
              "      <th></th>\n",
              "      <th></th>\n",
              "      <th></th>\n",
              "    </tr>\n",
              "  </thead>\n",
              "  <tbody>\n",
              "    <tr>\n",
              "      <th>Close</th>\n",
              "      <th>GOOG</th>\n",
              "      <td>2711.0</td>\n",
              "      <td>8.991992e+01</td>\n",
              "      <td>5.134172e+01</td>\n",
              "      <td>2.439314e+01</td>\n",
              "      <td>4.763800e+01</td>\n",
              "      <td>7.147240e+01</td>\n",
              "      <td>1.322152e+02</td>\n",
              "      <td>2.552400e+02</td>\n",
              "    </tr>\n",
              "    <tr>\n",
              "      <th>High</th>\n",
              "      <th>GOOG</th>\n",
              "      <td>2711.0</td>\n",
              "      <td>9.084674e+01</td>\n",
              "      <td>5.190234e+01</td>\n",
              "      <td>2.456281e+01</td>\n",
              "      <td>4.802237e+01</td>\n",
              "      <td>7.210606e+01</td>\n",
              "      <td>1.331786e+02</td>\n",
              "      <td>2.567000e+02</td>\n",
              "    </tr>\n",
              "    <tr>\n",
              "      <th>Low</th>\n",
              "      <th>GOOG</th>\n",
              "      <td>2711.0</td>\n",
              "      <td>8.894826e+01</td>\n",
              "      <td>5.074898e+01</td>\n",
              "      <td>2.414601e+01</td>\n",
              "      <td>4.723427e+01</td>\n",
              "      <td>7.083029e+01</td>\n",
              "      <td>1.303463e+02</td>\n",
              "      <td>2.520680e+02</td>\n",
              "    </tr>\n",
              "    <tr>\n",
              "      <th>Open</th>\n",
              "      <th>GOOG</th>\n",
              "      <td>2711.0</td>\n",
              "      <td>8.985805e+01</td>\n",
              "      <td>5.129529e+01</td>\n",
              "      <td>2.449714e+01</td>\n",
              "      <td>4.757990e+01</td>\n",
              "      <td>7.163379e+01</td>\n",
              "      <td>1.320066e+02</td>\n",
              "      <td>2.547800e+02</td>\n",
              "    </tr>\n",
              "    <tr>\n",
              "      <th>Volume</th>\n",
              "      <th>GOOG</th>\n",
              "      <td>2711.0</td>\n",
              "      <td>3.025954e+07</td>\n",
              "      <td>1.517127e+07</td>\n",
              "      <td>6.809800e+06</td>\n",
              "      <td>2.088280e+07</td>\n",
              "      <td>2.656600e+07</td>\n",
              "      <td>3.502600e+07</td>\n",
              "      <td>2.232980e+08</td>\n",
              "    </tr>\n",
              "  </tbody>\n",
              "</table>\n",
              "</div>\n",
              "    <div class=\"colab-df-buttons\">\n",
              "\n",
              "  <div class=\"colab-df-container\">\n",
              "    <button class=\"colab-df-convert\" onclick=\"convertToInteractive('df-9887f430-b293-4cc2-86b8-62803b412c99')\"\n",
              "            title=\"Convert this dataframe to an interactive table.\"\n",
              "            style=\"display:none;\">\n",
              "\n",
              "  <svg xmlns=\"http://www.w3.org/2000/svg\" height=\"24px\" viewBox=\"0 -960 960 960\">\n",
              "    <path d=\"M120-120v-720h720v720H120Zm60-500h600v-160H180v160Zm220 220h160v-160H400v160Zm0 220h160v-160H400v160ZM180-400h160v-160H180v160Zm440 0h160v-160H620v160ZM180-180h160v-160H180v160Zm440 0h160v-160H620v160Z\"/>\n",
              "  </svg>\n",
              "    </button>\n",
              "\n",
              "  <style>\n",
              "    .colab-df-container {\n",
              "      display:flex;\n",
              "      gap: 12px;\n",
              "    }\n",
              "\n",
              "    .colab-df-convert {\n",
              "      background-color: #E8F0FE;\n",
              "      border: none;\n",
              "      border-radius: 50%;\n",
              "      cursor: pointer;\n",
              "      display: none;\n",
              "      fill: #1967D2;\n",
              "      height: 32px;\n",
              "      padding: 0 0 0 0;\n",
              "      width: 32px;\n",
              "    }\n",
              "\n",
              "    .colab-df-convert:hover {\n",
              "      background-color: #E2EBFA;\n",
              "      box-shadow: 0px 1px 2px rgba(60, 64, 67, 0.3), 0px 1px 3px 1px rgba(60, 64, 67, 0.15);\n",
              "      fill: #174EA6;\n",
              "    }\n",
              "\n",
              "    .colab-df-buttons div {\n",
              "      margin-bottom: 4px;\n",
              "    }\n",
              "\n",
              "    [theme=dark] .colab-df-convert {\n",
              "      background-color: #3B4455;\n",
              "      fill: #D2E3FC;\n",
              "    }\n",
              "\n",
              "    [theme=dark] .colab-df-convert:hover {\n",
              "      background-color: #434B5C;\n",
              "      box-shadow: 0px 1px 3px 1px rgba(0, 0, 0, 0.15);\n",
              "      filter: drop-shadow(0px 1px 2px rgba(0, 0, 0, 0.3));\n",
              "      fill: #FFFFFF;\n",
              "    }\n",
              "  </style>\n",
              "\n",
              "    <script>\n",
              "      const buttonEl =\n",
              "        document.querySelector('#df-9887f430-b293-4cc2-86b8-62803b412c99 button.colab-df-convert');\n",
              "      buttonEl.style.display =\n",
              "        google.colab.kernel.accessAllowed ? 'block' : 'none';\n",
              "\n",
              "      async function convertToInteractive(key) {\n",
              "        const element = document.querySelector('#df-9887f430-b293-4cc2-86b8-62803b412c99');\n",
              "        const dataTable =\n",
              "          await google.colab.kernel.invokeFunction('convertToInteractive',\n",
              "                                                    [key], {});\n",
              "        if (!dataTable) return;\n",
              "\n",
              "        const docLinkHtml = 'Like what you see? Visit the ' +\n",
              "          '<a target=\"_blank\" href=https://colab.research.google.com/notebooks/data_table.ipynb>data table notebook</a>'\n",
              "          + ' to learn more about interactive tables.';\n",
              "        element.innerHTML = '';\n",
              "        dataTable['output_type'] = 'display_data';\n",
              "        await google.colab.output.renderOutput(dataTable, element);\n",
              "        const docLink = document.createElement('div');\n",
              "        docLink.innerHTML = docLinkHtml;\n",
              "        element.appendChild(docLink);\n",
              "      }\n",
              "    </script>\n",
              "  </div>\n",
              "\n",
              "\n",
              "    <div id=\"df-194e023b-fb41-4375-ac6d-1dbc284c20f5\">\n",
              "      <button class=\"colab-df-quickchart\" onclick=\"quickchart('df-194e023b-fb41-4375-ac6d-1dbc284c20f5')\"\n",
              "                title=\"Suggest charts\"\n",
              "                style=\"display:none;\">\n",
              "\n",
              "<svg xmlns=\"http://www.w3.org/2000/svg\" height=\"24px\"viewBox=\"0 0 24 24\"\n",
              "     width=\"24px\">\n",
              "    <g>\n",
              "        <path d=\"M19 3H5c-1.1 0-2 .9-2 2v14c0 1.1.9 2 2 2h14c1.1 0 2-.9 2-2V5c0-1.1-.9-2-2-2zM9 17H7v-7h2v7zm4 0h-2V7h2v10zm4 0h-2v-4h2v4z\"/>\n",
              "    </g>\n",
              "</svg>\n",
              "      </button>\n",
              "\n",
              "<style>\n",
              "  .colab-df-quickchart {\n",
              "      --bg-color: #E8F0FE;\n",
              "      --fill-color: #1967D2;\n",
              "      --hover-bg-color: #E2EBFA;\n",
              "      --hover-fill-color: #174EA6;\n",
              "      --disabled-fill-color: #AAA;\n",
              "      --disabled-bg-color: #DDD;\n",
              "  }\n",
              "\n",
              "  [theme=dark] .colab-df-quickchart {\n",
              "      --bg-color: #3B4455;\n",
              "      --fill-color: #D2E3FC;\n",
              "      --hover-bg-color: #434B5C;\n",
              "      --hover-fill-color: #FFFFFF;\n",
              "      --disabled-bg-color: #3B4455;\n",
              "      --disabled-fill-color: #666;\n",
              "  }\n",
              "\n",
              "  .colab-df-quickchart {\n",
              "    background-color: var(--bg-color);\n",
              "    border: none;\n",
              "    border-radius: 50%;\n",
              "    cursor: pointer;\n",
              "    display: none;\n",
              "    fill: var(--fill-color);\n",
              "    height: 32px;\n",
              "    padding: 0;\n",
              "    width: 32px;\n",
              "  }\n",
              "\n",
              "  .colab-df-quickchart:hover {\n",
              "    background-color: var(--hover-bg-color);\n",
              "    box-shadow: 0 1px 2px rgba(60, 64, 67, 0.3), 0 1px 3px 1px rgba(60, 64, 67, 0.15);\n",
              "    fill: var(--button-hover-fill-color);\n",
              "  }\n",
              "\n",
              "  .colab-df-quickchart-complete:disabled,\n",
              "  .colab-df-quickchart-complete:disabled:hover {\n",
              "    background-color: var(--disabled-bg-color);\n",
              "    fill: var(--disabled-fill-color);\n",
              "    box-shadow: none;\n",
              "  }\n",
              "\n",
              "  .colab-df-spinner {\n",
              "    border: 2px solid var(--fill-color);\n",
              "    border-color: transparent;\n",
              "    border-bottom-color: var(--fill-color);\n",
              "    animation:\n",
              "      spin 1s steps(1) infinite;\n",
              "  }\n",
              "\n",
              "  @keyframes spin {\n",
              "    0% {\n",
              "      border-color: transparent;\n",
              "      border-bottom-color: var(--fill-color);\n",
              "      border-left-color: var(--fill-color);\n",
              "    }\n",
              "    20% {\n",
              "      border-color: transparent;\n",
              "      border-left-color: var(--fill-color);\n",
              "      border-top-color: var(--fill-color);\n",
              "    }\n",
              "    30% {\n",
              "      border-color: transparent;\n",
              "      border-left-color: var(--fill-color);\n",
              "      border-top-color: var(--fill-color);\n",
              "      border-right-color: var(--fill-color);\n",
              "    }\n",
              "    40% {\n",
              "      border-color: transparent;\n",
              "      border-right-color: var(--fill-color);\n",
              "      border-top-color: var(--fill-color);\n",
              "    }\n",
              "    60% {\n",
              "      border-color: transparent;\n",
              "      border-right-color: var(--fill-color);\n",
              "    }\n",
              "    80% {\n",
              "      border-color: transparent;\n",
              "      border-right-color: var(--fill-color);\n",
              "      border-bottom-color: var(--fill-color);\n",
              "    }\n",
              "    90% {\n",
              "      border-color: transparent;\n",
              "      border-bottom-color: var(--fill-color);\n",
              "    }\n",
              "  }\n",
              "</style>\n",
              "\n",
              "      <script>\n",
              "        async function quickchart(key) {\n",
              "          const quickchartButtonEl =\n",
              "            document.querySelector('#' + key + ' button');\n",
              "          quickchartButtonEl.disabled = true;  // To prevent multiple clicks.\n",
              "          quickchartButtonEl.classList.add('colab-df-spinner');\n",
              "          try {\n",
              "            const charts = await google.colab.kernel.invokeFunction(\n",
              "                'suggestCharts', [key], {});\n",
              "          } catch (error) {\n",
              "            console.error('Error during call to suggestCharts:', error);\n",
              "          }\n",
              "          quickchartButtonEl.classList.remove('colab-df-spinner');\n",
              "          quickchartButtonEl.classList.add('colab-df-quickchart-complete');\n",
              "        }\n",
              "        (() => {\n",
              "          let quickchartButtonEl =\n",
              "            document.querySelector('#df-194e023b-fb41-4375-ac6d-1dbc284c20f5 button');\n",
              "          quickchartButtonEl.style.display =\n",
              "            google.colab.kernel.accessAllowed ? 'block' : 'none';\n",
              "        })();\n",
              "      </script>\n",
              "    </div>\n",
              "\n",
              "    </div>\n",
              "  </div>\n"
            ],
            "application/vnd.google.colaboratory.intrinsic+json": {
              "type": "dataframe",
              "summary": "{\n  \"name\": \"display(df\",\n  \"rows\": 5,\n  \"fields\": [\n    {\n      \"column\": \"count\",\n      \"properties\": {\n        \"dtype\": \"number\",\n        \"std\": 0.0,\n        \"min\": 2711.0,\n        \"max\": 2711.0,\n        \"num_unique_values\": 1,\n        \"samples\": [\n          2711.0\n        ],\n        \"semantic_type\": \"\",\n        \"description\": \"\"\n      }\n    },\n    {\n      \"column\": \"mean\",\n      \"properties\": {\n        \"dtype\": \"number\",\n        \"std\": 13532438.026451373,\n        \"min\": 88.94825664197745,\n        \"max\": 30259541.221689414,\n        \"num_unique_values\": 5,\n        \"samples\": [\n          90.84673701501643\n        ],\n        \"semantic_type\": \"\",\n        \"description\": \"\"\n      }\n    },\n    {\n      \"column\": \"std\",\n      \"properties\": {\n        \"dtype\": \"number\",\n        \"std\": 6784777.238001197,\n        \"min\": 50.7489750125405,\n        \"max\": 15171274.438443298,\n        \"num_unique_values\": 5,\n        \"samples\": [\n          51.902340063925095\n        ],\n        \"semantic_type\": \"\",\n        \"description\": \"\"\n      }\n    },\n    {\n      \"column\": \"min\",\n      \"properties\": {\n        \"dtype\": \"number\",\n        \"std\": 3045424.230723411,\n        \"min\": 24.146014504927287,\n        \"max\": 6809800.0,\n        \"num_unique_values\": 5,\n        \"samples\": [\n          24.562811368824818\n        ],\n        \"semantic_type\": \"\",\n        \"description\": \"\"\n      }\n    },\n    {\n      \"column\": \"25%\",\n      \"properties\": {\n        \"dtype\": \"number\",\n        \"std\": 9339050.776405914,\n        \"min\": 47.234266083250816,\n        \"max\": 20882800.0,\n        \"num_unique_values\": 5,\n        \"samples\": [\n          48.022368022512715\n        ],\n        \"semantic_type\": \"\",\n        \"description\": \"\"\n      }\n    },\n    {\n      \"column\": \"50%\",\n      \"properties\": {\n        \"dtype\": \"number\",\n        \"std\": 11880644.397524318,\n        \"min\": 70.8302929578195,\n        \"max\": 26566000.0,\n        \"num_unique_values\": 5,\n        \"samples\": [\n          72.10605681797274\n        ],\n        \"semantic_type\": \"\",\n        \"description\": \"\"\n      }\n    },\n    {\n      \"column\": \"75%\",\n      \"properties\": {\n        \"dtype\": \"number\",\n        \"std\": 15664044.39210305,\n        \"min\": 130.34625167390166,\n        \"max\": 35026000.0,\n        \"num_unique_values\": 5,\n        \"samples\": [\n          133.17862308395468\n        ],\n        \"semantic_type\": \"\",\n        \"description\": \"\"\n      }\n    },\n    {\n      \"column\": \"max\",\n      \"properties\": {\n        \"dtype\": \"number\",\n        \"std\": 99861787.54398741,\n        \"min\": 252.0679931640625,\n        \"max\": 223298000.0,\n        \"num_unique_values\": 5,\n        \"samples\": [\n          256.70001220703125\n        ],\n        \"semantic_type\": \"\",\n        \"description\": \"\"\n      }\n    }\n  ]\n}"
            }
          },
          "metadata": {}
        }
      ]
    },
    {
      "cell_type": "code",
      "source": [
        "plt.figure(figsize=(12,4))\n",
        "plt.plot(df['Close'], label='Close')\n",
        "plt.title(f\"{TICKER} Close Price\")\n",
        "plt.xlabel('Date'); plt.ylabel('Price (USD)')\n",
        "plt.legend()\n",
        "plt.show()"
      ],
      "metadata": {
        "colab": {
          "base_uri": "https://localhost:8080/",
          "height": 372
        },
        "id": "IALw7TUlsIQI",
        "outputId": "790d0d2b-bd67-44ae-89dd-083a8ee79e0f"
      },
      "execution_count": 5,
      "outputs": [
        {
          "output_type": "display_data",
          "data": {
            "text/plain": [
              "<Figure size 1200x400 with 1 Axes>"
            ],
            "image/png": "[encoded data removed]"
          },
          "metadata": {}
        }
      ]
    },
    {
      "cell_type": "markdown",
      "source": [
        "## Why check correlations?\n",
        "To see whether Volume or other features have relationships with Close — helpful for feature selection.\n"
      ],
      "metadata": {
        "id": "ZHHYlW4GCThy"
      }
    },
    {
      "cell_type": "code",
      "source": [
        "plt.figure(figsize=(6,4))\n",
        "sns.heatmap(df[['Open','High','Low','Close','Volume']].corr(), annot=True, cmap='coolwarm')\n",
        "plt.title(\"Feature Correlation\")\n",
        "plt.show()  # shape (n_samples, 1)\n"
      ],
      "metadata": {
        "colab": {
          "base_uri": "https://localhost:8080/",
          "height": 496
        },
        "id": "e7CufBiZsaeI",
        "outputId": "1645e485-043d-484a-e645-496471362636"
      },
      "execution_count": 6,
      "outputs": [
        {
          "output_type": "display_data",
          "data": {
            "text/plain": [
              "<Figure size 600x400 with 2 Axes>"
            ],
            "image/png": "[encoded data removed]"
          },
          "metadata": {}
        }
      ]
    },
    {
      "cell_type": "code",
      "source": [
        "df['open_close'] = df['Open'] - df['Close']\n",
        "df['low_high'] = df['Low'] - df['High']\n",
        "df['target'] = np.where(df['Close'].shift(-1) > df['Close'],1,0)"
      ],
      "metadata": {
        "id": "DXaMzzVUsohO"
      },
      "execution_count": 7,
      "outputs": []
    },
    {
      "cell_type": "code",
      "source": [
        "plt.pie(df['target'].value_counts().values,\n",
        "        labels=[0, 1], autopct='%1.1f%%')\n",
        "plt.show()"
      ],
      "metadata": {
        "colab": {
          "base_uri": "https://localhost:8080/",
          "height": 406
        },
        "id": "VHr-deUOss-G",
        "outputId": "a24c897b-c1ab-4b80-c042-9b03b98f4888"
      },
      "execution_count": 8,
      "outputs": [
        {
          "output_type": "display_data",
          "data": {
            "text/plain": [
              "<Figure size 640x480 with 1 Axes>"
            ],
            "image/png": "[encoded data removed]"
          },
          "metadata": {}
        }
      ]
    },
    {
      "cell_type": "code",
      "source": [
        "df.reset_index(inplace = True)"
      ],
      "metadata": {
        "id": "XBx-pyNSstF2"
      },
      "execution_count": 9,
      "outputs": []
    },
    {
      "cell_type": "code",
      "source": [
        "df.Date = pd.to_datetime(df['Date'])"
      ],
      "metadata": {
        "id": "uhQjBlJrstLd"
      },
      "execution_count": 10,
      "outputs": []
    },
    {
      "cell_type": "code",
      "source": [
        "df['year'] = df['Date'].dt.year\n",
        "df['month'] = df['Date'].dt.month"
      ],
      "metadata": {
        "id": "JFlSix2nstRM"
      },
      "execution_count": 11,
      "outputs": []
    },
    {
      "cell_type": "code",
      "source": [
        "import seaborn as sb\n",
        "sb.heatmap(df.drop('Date', axis=1).corr() > 0.9, annot=True, cbar=False)\n",
        "plt.show()"
      ],
      "metadata": {
        "colab": {
          "base_uri": "https://localhost:8080/",
          "height": 591
        },
        "id": "zJkEG2LzstXf",
        "outputId": "dd2680ed-1d30-4777-df7f-3c82b18790fe"
      },
      "execution_count": 12,
      "outputs": [
        {
          "output_type": "stream",
          "name": "stderr",
          "text": [
            "/tmp/ipython-input-2213799094.py:2: PerformanceWarning: dropping on a non-lexsorted multi-index without a level parameter may impact performance.\n",
            "  sb.heatmap(df.drop('Date', axis=1).corr() > 0.9, annot=True, cbar=False)\n"
          ]
        },
        {
          "output_type": "display_data",
          "data": {
            "text/plain": [
              "<Figure size 640x480 with 1 Axes>"
            ],
            "image/png": "[encoded data removed]"
          },
          "metadata": {}
        }
      ]
    },
    {
      "cell_type": "code",
      "source": [
        "df['is_quarter_end'] = np.where(df['month']%3==0,1,0)\n",
        "df.head()"
      ],
      "metadata": {
        "colab": {
          "base_uri": "https://localhost:8080/",
          "height": 344
        },
        "id": "zOOioKXRxsqy",
        "outputId": "c0836c70-992f-4b2b-c047-5cbcd9676be0"
      },
      "execution_count": 13,
      "outputs": [
        {
          "output_type": "execute_result",
          "data": {
            "text/plain": [
              "Price        Date      Close       High        Low       Open    Volume  \\\n",
              "Ticker                  GOOG       GOOG       GOOG       GOOG      GOOG   \n",
              "0      2015-01-02  25.990789  26.310717  25.955628  26.198791  28951268   \n",
              "1      2015-01-05  25.448999  25.967023  25.408886  25.914031  41196796   \n",
              "2      2015-01-06  24.859165  25.563153  24.814100  25.504961  57998800   \n",
              "3      2015-01-07  24.816576  25.120852  24.744766  25.108768  41301082   \n",
              "4      2015-01-08  24.894821  24.934440  24.316378  24.662553  67071641   \n",
              "\n",
              "Price  open_close  low_high target  year month is_quarter_end  \n",
              "Ticker                                                         \n",
              "0        0.208002 -0.355089      0  2015     1              0  \n",
              "1        0.465032 -0.558137      0  2015     1              0  \n",
              "2        0.645796 -0.749053      0  2015     1              0  \n",
              "3        0.292192 -0.376087      1  2015     1              0  \n",
              "4       -0.232269 -0.618062      0  2015     1              0  "
            ],
            "text/html": [
              "\n",
              "  <div id=\"df-05a28c75-c488-434e-b941-91a87fb99575\" class=\"colab-df-container\">\n",
              "    <div>\n",
              "<style scoped>\n",
              "    .dataframe tbody tr th:only-of-type {\n",
              "        vertical-align: middle;\n",
              "    }\n",
              "\n",
              "    .dataframe tbody tr th {\n",
              "        vertical-align: top;\n",
              "    }\n",
              "\n",
              "    .dataframe thead tr th {\n",
              "        text-align: left;\n",
              "    }\n",
              "</style>\n",
              "<table border=\"1\" class=\"dataframe\">\n",
              "  <thead>\n",
              "    <tr>\n",
              "      <th>Price</th>\n",
              "      <th>Date</th>\n",
              "      <th>Close</th>\n",
              "      <th>High</th>\n",
              "      <th>Low</th>\n",
              "      <th>Open</th>\n",
              "      <th>Volume</th>\n",
              "      <th>open_close</th>\n",
              "      <th>low_high</th>\n",
              "      <th>target</th>\n",
              "      <th>year</th>\n",
              "      <th>month</th>\n",
              "      <th>is_quarter_end</th>\n",
              "    </tr>\n",
              "    <tr>\n",
              "      <th>Ticker</th>\n",
              "      <th></th>\n",
              "      <th>GOOG</th>\n",
              "      <th>GOOG</th>\n",
              "      <th>GOOG</th>\n",
              "      <th>GOOG</th>\n",
              "      <th>GOOG</th>\n",
              "      <th></th>\n",
              "      <th></th>\n",
              "      <th></th>\n",
              "      <th></th>\n",
              "      <th></th>\n",
              "      <th></th>\n",
              "    </tr>\n",
              "  </thead>\n",
              "  <tbody>\n",
              "    <tr>\n",
              "      <th>0</th>\n",
              "      <td>2015-01-02</td>\n",
              "      <td>25.990789</td>\n",
              "      <td>26.310717</td>\n",
              "      <td>25.955628</td>\n",
              "      <td>26.198791</td>\n",
              "      <td>28951268</td>\n",
              "      <td>0.208002</td>\n",
              "      <td>-0.355089</td>\n",
              "      <td>0</td>\n",
              "      <td>2015</td>\n",
              "      <td>1</td>\n",
              "      <td>0</td>\n",
              "    </tr>\n",
              "    <tr>\n",
              "      <th>1</th>\n",
              "      <td>2015-01-05</td>\n",
              "      <td>25.448999</td>\n",
              "      <td>25.967023</td>\n",
              "      <td>25.408886</td>\n",
              "      <td>25.914031</td>\n",
              "      <td>41196796</td>\n",
              "      <td>0.465032</td>\n",
              "      <td>-0.558137</td>\n",
              "      <td>0</td>\n",
              "      <td>2015</td>\n",
              "      <td>1</td>\n",
              "      <td>0</td>\n",
              "    </tr>\n",
              "    <tr>\n",
              "      <th>2</th>\n",
              "      <td>2015-01-06</td>\n",
              "      <td>24.859165</td>\n",
              "      <td>25.563153</td>\n",
              "      <td>24.814100</td>\n",
              "      <td>25.504961</td>\n",
              "      <td>57998800</td>\n",
              "      <td>0.645796</td>\n",
              "      <td>-0.749053</td>\n",
              "      <td>0</td>\n",
              "      <td>2015</td>\n",
              "      <td>1</td>\n",
              "      <td>0</td>\n",
              "    </tr>\n",
              "    <tr>\n",
              "      <th>3</th>\n",
              "      <td>2015-01-07</td>\n",
              "      <td>24.816576</td>\n",
              "      <td>25.120852</td>\n",
              "      <td>24.744766</td>\n",
              "      <td>25.108768</td>\n",
              "      <td>41301082</td>\n",
              "      <td>0.292192</td>\n",
              "      <td>-0.376087</td>\n",
              "      <td>1</td>\n",
              "      <td>2015</td>\n",
              "      <td>1</td>\n",
              "      <td>0</td>\n",
              "    </tr>\n",
              "    <tr>\n",
              "      <th>4</th>\n",
              "      <td>2015-01-08</td>\n",
              "      <td>24.894821</td>\n",
              "      <td>24.934440</td>\n",
              "      <td>24.316378</td>\n",
              "      <td>24.662553</td>\n",
              "      <td>67071641</td>\n",
              "      <td>-0.232269</td>\n",
              "      <td>-0.618062</td>\n",
              "      <td>0</td>\n",
              "      <td>2015</td>\n",
              "      <td>1</td>\n",
              "      <td>0</td>\n",
              "    </tr>\n",
              "  </tbody>\n",
              "</table>\n",
              "</div>\n",
              "    <div class=\"colab-df-buttons\">\n",
              "\n",
              "  <div class=\"colab-df-container\">\n",
              "    <button class=\"colab-df-convert\" onclick=\"convertToInteractive('df-05a28c75-c488-434e-b941-91a87fb99575')\"\n",
              "            title=\"Convert this dataframe to an interactive table.\"\n",
              "            style=\"display:none;\">\n",
              "\n",
              "  <svg xmlns=\"http://www.w3.org/2000/svg\" height=\"24px\" viewBox=\"0 -960 960 960\">\n",
              "    <path d=\"M120-120v-720h720v720H120Zm60-500h600v-160H180v160Zm220 220h160v-160H400v160Zm0 220h160v-160H400v160ZM180-400h160v-160H180v160Zm440 0h160v-160H620v160ZM180-180h160v-160H180v160Zm440 0h160v-160H620v160Z\"/>\n",
              "  </svg>\n",
              "    </button>\n",
              "\n",
              "  <style>\n",
              "    .colab-df-container {\n",
              "      display:flex;\n",
              "      gap: 12px;\n",
              "    }\n",
              "\n",
              "    .colab-df-convert {\n",
              "      background-color: #E8F0FE;\n",
              "      border: none;\n",
              "      border-radius: 50%;\n",
              "      cursor: pointer;\n",
              "      display: none;\n",
              "      fill: #1967D2;\n",
              "      height: 32px;\n",
              "      padding: 0 0 0 0;\n",
              "      width: 32px;\n",
              "    }\n",
              "\n",
              "    .colab-df-convert:hover {\n",
              "      background-color: #E2EBFA;\n",
              "      box-shadow: 0px 1px 2px rgba(60, 64, 67, 0.3), 0px 1px 3px 1px rgba(60, 64, 67, 0.15);\n",
              "      fill: #174EA6;\n",
              "    }\n",
              "\n",
              "    .colab-df-buttons div {\n",
              "      margin-bottom: 4px;\n",
              "    }\n",
              "\n",
              "    [theme=dark] .colab-df-convert {\n",
              "      background-color: #3B4455;\n",
              "      fill: #D2E3FC;\n",
              "    }\n",
              "\n",
              "    [theme=dark] .colab-df-convert:hover {\n",
              "      background-color: #434B5C;\n",
              "      box-shadow: 0px 1px 3px 1px rgba(0, 0, 0, 0.15);\n",
              "      filter: drop-shadow(0px 1px 2px rgba(0, 0, 0, 0.3));\n",
              "      fill: #FFFFFF;\n",
              "    }\n",
              "  </style>\n",
              "\n",
              "    <script>\n",
              "      const buttonEl =\n",
              "        document.querySelector('#df-05a28c75-c488-434e-b941-91a87fb99575 button.colab-df-convert');\n",
              "      buttonEl.style.display =\n",
              "        google.colab.kernel.accessAllowed ? 'block' : 'none';\n",
              "\n",
              "      async function convertToInteractive(key) {\n",
              "        const element = document.querySelector('#df-05a28c75-c488-434e-b941-91a87fb99575');\n",
              "        const dataTable =\n",
              "          await google.colab.kernel.invokeFunction('convertToInteractive',\n",
              "                                                    [key], {});\n",
              "        if (!dataTable) return;\n",
              "\n",
              "        const docLinkHtml = 'Like what you see? Visit the ' +\n",
              "          '<a target=\"_blank\" href=https://colab.research.google.com/notebooks/data_table.ipynb>data table notebook</a>'\n",
              "          + ' to learn more about interactive tables.';\n",
              "        element.innerHTML = '';\n",
              "        dataTable['output_type'] = 'display_data';\n",
              "        await google.colab.output.renderOutput(dataTable, element);\n",
              "        const docLink = document.createElement('div');\n",
              "        docLink.innerHTML = docLinkHtml;\n",
              "        element.appendChild(docLink);\n",
              "      }\n",
              "    </script>\n",
              "  </div>\n",
              "\n",
              "\n",
              "    <div id=\"df-70b32eec-b587-4334-a65d-88fca759bd35\">\n",
              "      <button class=\"colab-df-quickchart\" onclick=\"quickchart('df-70b32eec-b587-4334-a65d-88fca759bd35')\"\n",
              "                title=\"Suggest charts\"\n",
              "                style=\"display:none;\">\n",
              "\n",
              "<svg xmlns=\"http://www.w3.org/2000/svg\" height=\"24px\"viewBox=\"0 0 24 24\"\n",
              "     width=\"24px\">\n",
              "    <g>\n",
              "        <path d=\"M19 3H5c-1.1 0-2 .9-2 2v14c0 1.1.9 2 2 2h14c1.1 0 2-.9 2-2V5c0-1.1-.9-2-2-2zM9 17H7v-7h2v7zm4 0h-2V7h2v10zm4 0h-2v-4h2v4z\"/>\n",
              "    </g>\n",
              "</svg>\n",
              "      </button>\n",
              "\n",
              "<style>\n",
              "  .colab-df-quickchart {\n",
              "      --bg-color: #E8F0FE;\n",
              "      --fill-color: #1967D2;\n",
              "      --hover-bg-color: #E2EBFA;\n",
              "      --hover-fill-color: #174EA6;\n",
              "      --disabled-fill-color: #AAA;\n",
              "      --disabled-bg-color: #DDD;\n",
              "  }\n",
              "\n",
              "  [theme=dark] .colab-df-quickchart {\n",
              "      --bg-color: #3B4455;\n",
              "      --fill-color: #D2E3FC;\n",
              "      --hover-bg-color: #434B5C;\n",
              "      --hover-fill-color: #FFFFFF;\n",
              "      --disabled-bg-color: #3B4455;\n",
              "      --disabled-fill-color: #666;\n",
              "  }\n",
              "\n",
              "  .colab-df-quickchart {\n",
              "    background-color: var(--bg-color);\n",
              "    border: none;\n",
              "    border-radius: 50%;\n",
              "    cursor: pointer;\n",
              "    display: none;\n",
              "    fill: var(--fill-color);\n",
              "    height: 32px;\n",
              "    padding: 0;\n",
              "    width: 32px;\n",
              "  }\n",
              "\n",
              "  .colab-df-quickchart:hover {\n",
              "    background-color: var(--hover-bg-color);\n",
              "    box-shadow: 0 1px 2px rgba(60, 64, 67, 0.3), 0 1px 3px 1px rgba(60, 64, 67, 0.15);\n",
              "    fill: var(--button-hover-fill-color);\n",
              "  }\n",
              "\n",
              "  .colab-df-quickchart-complete:disabled,\n",
              "  .colab-df-quickchart-complete:disabled:hover {\n",
              "    background-color: var(--disabled-bg-color);\n",
              "    fill: var(--disabled-fill-color);\n",
              "    box-shadow: none;\n",
              "  }\n",
              "\n",
              "  .colab-df-spinner {\n",
              "    border: 2px solid var(--fill-color);\n",
              "    border-color: transparent;\n",
              "    border-bottom-color: var(--fill-color);\n",
              "    animation:\n",
              "      spin 1s steps(1) infinite;\n",
              "  }\n",
              "\n",
              "  @keyframes spin {\n",
              "    0% {\n",
              "      border-color: transparent;\n",
              "      border-bottom-color: var(--fill-color);\n",
              "      border-left-color: var(--fill-color);\n",
              "    }\n",
              "    20% {\n",
              "      border-color: transparent;\n",
              "      border-left-color: var(--fill-color);\n",
              "      border-top-color: var(--fill-color);\n",
              "    }\n",
              "    30% {\n",
              "      border-color: transparent;\n",
              "      border-left-color: var(--fill-color);\n",
              "      border-top-color: var(--fill-color);\n",
              "      border-right-color: var(--fill-color);\n",
              "    }\n",
              "    40% {\n",
              "      border-color: transparent;\n",
              "      border-right-color: var(--fill-color);\n",
              "      border-top-color: var(--fill-color);\n",
              "    }\n",
              "    60% {\n",
              "      border-color: transparent;\n",
              "      border-right-color: var(--fill-color);\n",
              "    }\n",
              "    80% {\n",
              "      border-color: transparent;\n",
              "      border-right-color: var(--fill-color);\n",
              "      border-bottom-color: var(--fill-color);\n",
              "    }\n",
              "    90% {\n",
              "      border-color: transparent;\n",
              "      border-bottom-color: var(--fill-color);\n",
              "    }\n",
              "  }\n",
              "</style>\n",
              "\n",
              "      <script>\n",
              "        async function quickchart(key) {\n",
              "          const quickchartButtonEl =\n",
              "            document.querySelector('#' + key + ' button');\n",
              "          quickchartButtonEl.disabled = true;  // To prevent multiple clicks.\n",
              "          quickchartButtonEl.classList.add('colab-df-spinner');\n",
              "          try {\n",
              "            const charts = await google.colab.kernel.invokeFunction(\n",
              "                'suggestCharts', [key], {});\n",
              "          } catch (error) {\n",
              "            console.error('Error during call to suggestCharts:', error);\n",
              "          }\n",
              "          quickchartButtonEl.classList.remove('colab-df-spinner');\n",
              "          quickchartButtonEl.classList.add('colab-df-quickchart-complete');\n",
              "        }\n",
              "        (() => {\n",
              "          let quickchartButtonEl =\n",
              "            document.querySelector('#df-70b32eec-b587-4334-a65d-88fca759bd35 button');\n",
              "          quickchartButtonEl.style.display =\n",
              "            google.colab.kernel.accessAllowed ? 'block' : 'none';\n",
              "        })();\n",
              "      </script>\n",
              "    </div>\n",
              "\n",
              "    </div>\n",
              "  </div>\n"
            ],
            "application/vnd.google.colaboratory.intrinsic+json": {
              "type": "dataframe",
              "variable_name": "df",
              "summary": "{\n  \"name\": \"df\",\n  \"rows\": 2711,\n  \"fields\": [\n    {\n      \"column\": [\n        \"Date\",\n        \"\"\n      ],\n      \"properties\": {\n        \"dtype\": \"date\",\n        \"min\": \"2015-01-02 00:00:00\",\n        \"max\": \"2025-10-13 00:00:00\",\n        \"num_unique_values\": 2711,\n        \"samples\": [\n          \"2025-09-05 00:00:00\",\n          \"2024-11-05 00:00:00\",\n          \"2016-12-06 00:00:00\"\n        ],\n        \"semantic_type\": \"\",\n        \"description\": \"\"\n      }\n    },\n    {\n      \"column\": [\n        \"Close\",\n        \"GOOG\"\n      ],\n      \"properties\": {\n        \"dtype\": \"number\",\n        \"std\": 51.34171596960366,\n        \"min\": 24.39314079284668,\n        \"max\": 255.24000549316406,\n        \"num_unique_values\": 2672,\n        \"samples\": [\n          123.23666381835938,\n          64.49861907958984,\n          86.42805480957031\n        ],\n        \"semantic_type\": \"\",\n        \"description\": \"\"\n      }\n    },\n    {\n      \"column\": [\n        \"High\",\n        \"GOOG\"\n      ],\n      \"properties\": {\n        \"dtype\": \"number\",\n        \"std\": 51.902340063925095,\n        \"min\": 24.562811368824818,\n        \"max\": 256.70001220703125,\n        \"num_unique_values\": 2711,\n        \"samples\": [\n          235.9191408833356,\n          171.34705817597293,\n          38.18022955990541\n        ],\n        \"semantic_type\": \"\",\n        \"description\": \"\"\n      }\n    },\n    {\n      \"column\": [\n        \"Low\",\n        \"GOOG\"\n      ],\n      \"properties\": {\n        \"dtype\": \"number\",\n        \"std\": 50.7489750125405,\n        \"min\": 24.146014504927287,\n        \"max\": 252.0679931640625,\n        \"num_unique_values\": 2711,\n        \"samples\": [\n          232.17248963182874,\n          169.6275788891059,\n          37.609633184244174\n        ],\n        \"semantic_type\": \"\",\n        \"description\": \"\"\n      }\n    },\n    {\n      \"column\": [\n        \"Open\",\n        \"GOOG\"\n      ],\n      \"properties\": {\n        \"dtype\": \"number\",\n        \"std\": 51.29528647419589,\n        \"min\": 24.497143170797198,\n        \"max\": 254.77999877929688,\n        \"num_unique_values\": 2711,\n        \"samples\": [\n          232.4522383723282,\n          170.08558104548533,\n          37.976621047216106\n        ],\n        \"semantic_type\": \"\",\n        \"description\": \"\"\n      }\n    },\n    {\n      \"column\": [\n        \"Volume\",\n        \"GOOG\"\n      ],\n      \"properties\": {\n        \"dtype\": \"number\",\n        \"std\": 15171274,\n        \"min\": 6809800,\n        \"max\": 223298000,\n        \"num_unique_values\": 2626,\n        \"samples\": [\n          26542000,\n          27060000,\n          38648000\n        ],\n        \"semantic_type\": \"\",\n        \"description\": \"\"\n      }\n    },\n    {\n      \"column\": [\n        \"open_close\",\n        \"\"\n      ],\n      \"properties\": {\n        \"dtype\": \"number\",\n        \"std\": 1.4875107534481113,\n        \"min\": -14.699172952736461,\n        \"max\": 13.242236904926017,\n        \"num_unique_values\": 2711,\n        \"samples\": [\n          -2.507753082749929,\n          -0.577474374436548,\n          0.27908839340751257\n        ],\n        \"semantic_type\": \"\",\n        \"description\": \"\"\n      }\n    },\n    {\n      \"column\": [\n        \"low_high\",\n        \"\"\n      ],\n      \"properties\": {\n        \"dtype\": \"number\",\n        \"std\": 1.5885534642972259,\n        \"min\": -17.463381403510994,\n        \"max\": -0.1322299440556982,\n        \"num_unique_values\": 2711,\n        \"samples\": [\n          -3.7466512515068473,\n          -1.7194792868670277,\n          -0.5705963756612391\n        ],\n        \"semantic_type\": \"\",\n        \"description\": \"\"\n      }\n    },\n    {\n      \"column\": [\n        \"target\",\n        \"\"\n      ],\n      \"properties\": {\n        \"dtype\": \"number\",\n        \"std\": 0,\n        \"min\": 0,\n        \"max\": 1,\n        \"num_unique_values\": 2,\n        \"samples\": [\n          1,\n          0\n        ],\n        \"semantic_type\": \"\",\n        \"description\": \"\"\n      }\n    },\n    {\n      \"column\": [\n        \"year\",\n        \"\"\n      ],\n      \"properties\": {\n        \"dtype\": \"int32\",\n        \"num_unique_values\": 11,\n        \"samples\": [\n          2020,\n          2015\n        ],\n        \"semantic_type\": \"\",\n        \"description\": \"\"\n      }\n    },\n    {\n      \"column\": [\n        \"month\",\n        \"\"\n      ],\n      \"properties\": {\n        \"dtype\": \"int32\",\n        \"num_unique_values\": 12,\n        \"samples\": [\n          11,\n          10\n        ],\n        \"semantic_type\": \"\",\n        \"description\": \"\"\n      }\n    },\n    {\n      \"column\": [\n        \"is_quarter_end\",\n        \"\"\n      ],\n      \"properties\": {\n        \"dtype\": \"number\",\n        \"std\": 0,\n        \"min\": 0,\n        \"max\": 1,\n        \"num_unique_values\": 2,\n        \"samples\": [\n          1,\n          0\n        ],\n        \"semantic_type\": \"\",\n        \"description\": \"\"\n      }\n    }\n  ]\n}"
            }
          },
          "metadata": {},
          "execution_count": 13
        }
      ]
    },
    {
      "cell_type": "code",
      "source": [
        "df.drop('Date', axis=1).groupby('is_quarter_end').mean()"
      ],
      "metadata": {
        "colab": {
          "base_uri": "https://localhost:8080/",
          "height": 229
        },
        "id": "YLrUysfZxum3",
        "outputId": "fb9e0ea2-153b-4eb2-c563-2d72f525f4d6"
      },
      "execution_count": 14,
      "outputs": [
        {
          "output_type": "stream",
          "name": "stderr",
          "text": [
            "/tmp/ipython-input-1194725523.py:1: PerformanceWarning: dropping on a non-lexsorted multi-index without a level parameter may impact performance.\n",
            "  df.drop('Date', axis=1).groupby('is_quarter_end').mean()\n"
          ]
        },
        {
          "output_type": "execute_result",
          "data": {
            "text/plain": [
              "Price               Close       High        Low       Open        Volume  \\\n",
              "Ticker               GOOG       GOOG       GOOG       GOOG          GOOG   \n",
              "is_quarter_end                                                             \n",
              "0               89.704809  90.623358  88.729127  89.621227  3.013284e+07   \n",
              "1               90.347760  91.291032  89.384099  90.329097  3.051155e+07   \n",
              "\n",
              "Price          open_close  low_high    target         year     month  \n",
              "Ticker                                                                \n",
              "is_quarter_end                                                        \n",
              "0               -0.083581 -1.894231  0.552106  2019.914634  6.013858  \n",
              "1               -0.018663 -1.906933  0.514884  2019.852260  7.329658  "
            ],
            "text/html": [
              "\n",
              "  <div id=\"df-a58c8a79-9030-40be-8744-9d06c8c30316\" class=\"colab-df-container\">\n",
              "    <div>\n",
              "<style scoped>\n",
              "    .dataframe tbody tr th:only-of-type {\n",
              "        vertical-align: middle;\n",
              "    }\n",
              "\n",
              "    .dataframe tbody tr th {\n",
              "        vertical-align: top;\n",
              "    }\n",
              "\n",
              "    .dataframe thead tr th {\n",
              "        text-align: left;\n",
              "    }\n",
              "\n",
              "    .dataframe thead tr:last-of-type th {\n",
              "        text-align: right;\n",
              "    }\n",
              "</style>\n",
              "<table border=\"1\" class=\"dataframe\">\n",
              "  <thead>\n",
              "    <tr>\n",
              "      <th>Price</th>\n",
              "      <th>Close</th>\n",
              "      <th>High</th>\n",
              "      <th>Low</th>\n",
              "      <th>Open</th>\n",
              "      <th>Volume</th>\n",
              "      <th>open_close</th>\n",
              "      <th>low_high</th>\n",
              "      <th>target</th>\n",
              "      <th>year</th>\n",
              "      <th>month</th>\n",
              "    </tr>\n",
              "    <tr>\n",
              "      <th>Ticker</th>\n",
              "      <th>GOOG</th>\n",
              "      <th>GOOG</th>\n",
              "      <th>GOOG</th>\n",
              "      <th>GOOG</th>\n",
              "      <th>GOOG</th>\n",
              "      <th></th>\n",
              "      <th></th>\n",
              "      <th></th>\n",
              "      <th></th>\n",
              "      <th></th>\n",
              "    </tr>\n",
              "    <tr>\n",
              "      <th>is_quarter_end</th>\n",
              "      <th></th>\n",
              "      <th></th>\n",
              "      <th></th>\n",
              "      <th></th>\n",
              "      <th></th>\n",
              "      <th></th>\n",
              "      <th></th>\n",
              "      <th></th>\n",
              "      <th></th>\n",
              "      <th></th>\n",
              "    </tr>\n",
              "  </thead>\n",
              "  <tbody>\n",
              "    <tr>\n",
              "      <th>0</th>\n",
              "      <td>89.704809</td>\n",
              "      <td>90.623358</td>\n",
              "      <td>88.729127</td>\n",
              "      <td>89.621227</td>\n",
              "      <td>3.013284e+07</td>\n",
              "      <td>-0.083581</td>\n",
              "      <td>-1.894231</td>\n",
              "      <td>0.552106</td>\n",
              "      <td>2019.914634</td>\n",
              "      <td>6.013858</td>\n",
              "    </tr>\n",
              "    <tr>\n",
              "      <th>1</th>\n",
              "      <td>90.347760</td>\n",
              "      <td>91.291032</td>\n",
              "      <td>89.384099</td>\n",
              "      <td>90.329097</td>\n",
              "      <td>3.051155e+07</td>\n",
              "      <td>-0.018663</td>\n",
              "      <td>-1.906933</td>\n",
              "      <td>0.514884</td>\n",
              "      <td>2019.852260</td>\n",
              "      <td>7.329658</td>\n",
              "    </tr>\n",
              "  </tbody>\n",
              "</table>\n",
              "</div>\n",
              "    <div class=\"colab-df-buttons\">\n",
              "\n",
              "  <div class=\"colab-df-container\">\n",
              "    <button class=\"colab-df-convert\" onclick=\"convertToInteractive('df-a58c8a79-9030-40be-8744-9d06c8c30316')\"\n",
              "            title=\"Convert this dataframe to an interactive table.\"\n",
              "            style=\"display:none;\">\n",
              "\n",
              "  <svg xmlns=\"http://www.w3.org/2000/svg\" height=\"24px\" viewBox=\"0 -960 960 960\">\n",
              "    <path d=\"M120-120v-720h720v720H120Zm60-500h600v-160H180v160Zm220 220h160v-160H400v160Zm0 220h160v-160H400v160ZM180-400h160v-160H180v160Zm440 0h160v-160H620v160ZM180-180h160v-160H180v160Zm440 0h160v-160H620v160Z\"/>\n",
              "  </svg>\n",
              "    </button>\n",
              "\n",
              "  <style>\n",
              "    .colab-df-container {\n",
              "      display:flex;\n",
              "      gap: 12px;\n",
              "    }\n",
              "\n",
              "    .colab-df-convert {\n",
              "      background-color: #E8F0FE;\n",
              "      border: none;\n",
              "      border-radius: 50%;\n",
              "      cursor: pointer;\n",
              "      display: none;\n",
              "      fill: #1967D2;\n",
              "      height: 32px;\n",
              "      padding: 0 0 0 0;\n",
              "      width: 32px;\n",
              "    }\n",
              "\n",
              "    .colab-df-convert:hover {\n",
              "      background-color: #E2EBFA;\n",
              "      box-shadow: 0px 1px 2px rgba(60, 64, 67, 0.3), 0px 1px 3px 1px rgba(60, 64, 67, 0.15);\n",
              "      fill: #174EA6;\n",
              "    }\n",
              "\n",
              "    .colab-df-buttons div {\n",
              "      margin-bottom: 4px;\n",
              "    }\n",
              "\n",
              "    [theme=dark] .colab-df-convert {\n",
              "      background-color: #3B4455;\n",
              "      fill: #D2E3FC;\n",
              "    }\n",
              "\n",
              "    [theme=dark] .colab-df-convert:hover {\n",
              "      background-color: #434B5C;\n",
              "      box-shadow: 0px 1px 3px 1px rgba(0, 0, 0, 0.15);\n",
              "      filter: drop-shadow(0px 1px 2px rgba(0, 0, 0, 0.3));\n",
              "      fill: #FFFFFF;\n",
              "    }\n",
              "  </style>\n",
              "\n",
              "    <script>\n",
              "      const buttonEl =\n",
              "        document.querySelector('#df-a58c8a79-9030-40be-8744-9d06c8c30316 button.colab-df-convert');\n",
              "      buttonEl.style.display =\n",
              "        google.colab.kernel.accessAllowed ? 'block' : 'none';\n",
              "\n",
              "      async function convertToInteractive(key) {\n",
              "        const element = document.querySelector('#df-a58c8a79-9030-40be-8744-9d06c8c30316');\n",
              "        const dataTable =\n",
              "          await google.colab.kernel.invokeFunction('convertToInteractive',\n",
              "                                                    [key], {});\n",
              "        if (!dataTable) return;\n",
              "\n",
              "        const docLinkHtml = 'Like what you see? Visit the ' +\n",
              "          '<a target=\"_blank\" href=https://colab.research.google.com/notebooks/data_table.ipynb>data table notebook</a>'\n",
              "          + ' to learn more about interactive tables.';\n",
              "        element.innerHTML = '';\n",
              "        dataTable['output_type'] = 'display_data';\n",
              "        await google.colab.output.renderOutput(dataTable, element);\n",
              "        const docLink = document.createElement('div');\n",
              "        docLink.innerHTML = docLinkHtml;\n",
              "        element.appendChild(docLink);\n",
              "      }\n",
              "    </script>\n",
              "  </div>\n",
              "\n",
              "\n",
              "    <div id=\"df-564adff8-0fcf-4ee3-aa8f-e71482d1c938\">\n",
              "      <button class=\"colab-df-quickchart\" onclick=\"quickchart('df-564adff8-0fcf-4ee3-aa8f-e71482d1c938')\"\n",
              "                title=\"Suggest charts\"\n",
              "                style=\"display:none;\">\n",
              "\n",
              "<svg xmlns=\"http://www.w3.org/2000/svg\" height=\"24px\"viewBox=\"0 0 24 24\"\n",
              "     width=\"24px\">\n",
              "    <g>\n",
              "        <path d=\"M19 3H5c-1.1 0-2 .9-2 2v14c0 1.1.9 2 2 2h14c1.1 0 2-.9 2-2V5c0-1.1-.9-2-2-2zM9 17H7v-7h2v7zm4 0h-2V7h2v10zm4 0h-2v-4h2v4z\"/>\n",
              "    </g>\n",
              "</svg>\n",
              "      </button>\n",
              "\n",
              "<style>\n",
              "  .colab-df-quickchart {\n",
              "      --bg-color: #E8F0FE;\n",
              "      --fill-color: #1967D2;\n",
              "      --hover-bg-color: #E2EBFA;\n",
              "      --hover-fill-color: #174EA6;\n",
              "      --disabled-fill-color: #AAA;\n",
              "      --disabled-bg-color: #DDD;\n",
              "  }\n",
              "\n",
              "  [theme=dark] .colab-df-quickchart {\n",
              "      --bg-color: #3B4455;\n",
              "      --fill-color: #D2E3FC;\n",
              "      --hover-bg-color: #434B5C;\n",
              "      --hover-fill-color: #FFFFFF;\n",
              "      --disabled-bg-color: #3B4455;\n",
              "      --disabled-fill-color: #666;\n",
              "  }\n",
              "\n",
              "  .colab-df-quickchart {\n",
              "    background-color: var(--bg-color);\n",
              "    border: none;\n",
              "    border-radius: 50%;\n",
              "    cursor: pointer;\n",
              "    display: none;\n",
              "    fill: var(--fill-color);\n",
              "    height: 32px;\n",
              "    padding: 0;\n",
              "    width: 32px;\n",
              "  }\n",
              "\n",
              "  .colab-df-quickchart:hover {\n",
              "    background-color: var(--hover-bg-color);\n",
              "    box-shadow: 0 1px 2px rgba(60, 64, 67, 0.3), 0 1px 3px 1px rgba(60, 64, 67, 0.15);\n",
              "    fill: var(--button-hover-fill-color);\n",
              "  }\n",
              "\n",
              "  .colab-df-quickchart-complete:disabled,\n",
              "  .colab-df-quickchart-complete:disabled:hover {\n",
              "    background-color: var(--disabled-bg-color);\n",
              "    fill: var(--disabled-fill-color);\n",
              "    box-shadow: none;\n",
              "  }\n",
              "\n",
              "  .colab-df-spinner {\n",
              "    border: 2px solid var(--fill-color);\n",
              "    border-color: transparent;\n",
              "    border-bottom-color: var(--fill-color);\n",
              "    animation:\n",
              "      spin 1s steps(1) infinite;\n",
              "  }\n",
              "\n",
              "  @keyframes spin {\n",
              "    0% {\n",
              "      border-color: transparent;\n",
              "      border-bottom-color: var(--fill-color);\n",
              "      border-left-color: var(--fill-color);\n",
              "    }\n",
              "    20% {\n",
              "      border-color: transparent;\n",
              "      border-left-color: var(--fill-color);\n",
              "      border-top-color: var(--fill-color);\n",
              "    }\n",
              "    30% {\n",
              "      border-color: transparent;\n",
              "      border-left-color: var(--fill-color);\n",
              "      border-top-color: var(--fill-color);\n",
              "      border-right-color: var(--fill-color);\n",
              "    }\n",
              "    40% {\n",
              "      border-color: transparent;\n",
              "      border-right-color: var(--fill-color);\n",
              "      border-top-color: var(--fill-color);\n",
              "    }\n",
              "    60% {\n",
              "      border-color: transparent;\n",
              "      border-right-color: var(--fill-color);\n",
              "    }\n",
              "    80% {\n",
              "      border-color: transparent;\n",
              "      border-right-color: var(--fill-color);\n",
              "      border-bottom-color: var(--fill-color);\n",
              "    }\n",
              "    90% {\n",
              "      border-color: transparent;\n",
              "      border-bottom-color: var(--fill-color);\n",
              "    }\n",
              "  }\n",
              "</style>\n",
              "\n",
              "      <script>\n",
              "        async function quickchart(key) {\n",
              "          const quickchartButtonEl =\n",
              "            document.querySelector('#' + key + ' button');\n",
              "          quickchartButtonEl.disabled = true;  // To prevent multiple clicks.\n",
              "          quickchartButtonEl.classList.add('colab-df-spinner');\n",
              "          try {\n",
              "            const charts = await google.colab.kernel.invokeFunction(\n",
              "                'suggestCharts', [key], {});\n",
              "          } catch (error) {\n",
              "            console.error('Error during call to suggestCharts:', error);\n",
              "          }\n",
              "          quickchartButtonEl.classList.remove('colab-df-spinner');\n",
              "          quickchartButtonEl.classList.add('colab-df-quickchart-complete');\n",
              "        }\n",
              "        (() => {\n",
              "          let quickchartButtonEl =\n",
              "            document.querySelector('#df-564adff8-0fcf-4ee3-aa8f-e71482d1c938 button');\n",
              "          quickchartButtonEl.style.display =\n",
              "            google.colab.kernel.accessAllowed ? 'block' : 'none';\n",
              "        })();\n",
              "      </script>\n",
              "    </div>\n",
              "\n",
              "    </div>\n",
              "  </div>\n"
            ],
            "application/vnd.google.colaboratory.intrinsic+json": {
              "type": "dataframe",
              "summary": "{\n  \"name\": \"df\",\n  \"rows\": 2,\n  \"fields\": [\n    {\n      \"column\": [\n        \"is_quarter_end\",\n        \"\"\n      ],\n      \"properties\": {\n        \"dtype\": \"number\",\n        \"std\": 0,\n        \"min\": 0,\n        \"max\": 1,\n        \"num_unique_values\": 2,\n        \"samples\": [\n          1,\n          0\n        ],\n        \"semantic_type\": \"\",\n        \"description\": \"\"\n      }\n    },\n    {\n      \"column\": [\n        \"Close\",\n        \"GOOG\"\n      ],\n      \"properties\": {\n        \"dtype\": \"number\",\n        \"std\": 0.45463518727791496,\n        \"min\": 89.70480869931815,\n        \"max\": 90.34775994709861,\n        \"num_unique_values\": 2,\n        \"samples\": [\n          90.34775994709861,\n          89.70480869931815\n        ],\n        \"semantic_type\": \"\",\n        \"description\": \"\"\n      }\n    },\n    {\n      \"column\": [\n        \"High\",\n        \"GOOG\"\n      ],\n      \"properties\": {\n        \"dtype\": \"number\",\n        \"std\": 0.47211674687358857,\n        \"min\": 90.62335810201309,\n        \"max\": 91.29103200846518,\n        \"num_unique_values\": 2,\n        \"samples\": [\n          91.29103200846518,\n          90.62335810201309\n        ],\n        \"semantic_type\": \"\",\n        \"description\": \"\"\n      }\n    },\n    {\n      \"column\": [\n        \"Low\",\n        \"GOOG\"\n      ],\n      \"properties\": {\n        \"dtype\": \"number\",\n        \"std\": 0.46313482569936487,\n        \"min\": 88.72912746551039,\n        \"max\": 89.38409901722173,\n        \"num_unique_values\": 2,\n        \"samples\": [\n          89.38409901722173,\n          88.72912746551039\n        ],\n        \"semantic_type\": \"\",\n        \"description\": \"\"\n      }\n    },\n    {\n      \"column\": [\n        \"Open\",\n        \"GOOG\"\n      ],\n      \"properties\": {\n        \"dtype\": \"number\",\n        \"std\": 0.5005397660135319,\n        \"min\": 89.62122726950123,\n        \"max\": 90.32909739510463,\n        \"num_unique_values\": 2,\n        \"samples\": [\n          90.32909739510463,\n          89.62122726950123\n        ],\n        \"semantic_type\": \"\",\n        \"description\": \"\"\n      }\n    },\n    {\n      \"column\": [\n        \"Volume\",\n        \"GOOG\"\n      ],\n      \"properties\": {\n        \"dtype\": \"number\",\n        \"std\": 267785.6261834206,\n        \"min\": 30132840.225609757,\n        \"max\": 30511546.289966922,\n        \"num_unique_values\": 2,\n        \"samples\": [\n          30511546.289966922,\n          30132840.225609757\n        ],\n        \"semantic_type\": \"\",\n        \"description\": \"\"\n      }\n    },\n    {\n      \"column\": [\n        \"open_close\",\n        \"\"\n      ],\n      \"properties\": {\n        \"dtype\": \"number\",\n        \"std\": 0.045904578735633195,\n        \"min\": -0.08358142981693127,\n        \"max\": -0.018662551993975228,\n        \"num_unique_values\": 2,\n        \"samples\": [\n          -0.018662551993975228,\n          -0.08358142981693127\n        ],\n        \"semantic_type\": \"\",\n        \"description\": \"\"\n      }\n    },\n    {\n      \"column\": [\n        \"low_high\",\n        \"\"\n      ],\n      \"properties\": {\n        \"dtype\": \"number\",\n        \"std\": 0.008981921174214577,\n        \"min\": -1.9069329912434463,\n        \"max\": -1.894230636502706,\n        \"num_unique_values\": 2,\n        \"samples\": [\n          -1.9069329912434463,\n          -1.894230636502706\n        ],\n        \"semantic_type\": \"\",\n        \"description\": \"\"\n      }\n    },\n    {\n      \"column\": [\n        \"target\",\n        \"\"\n      ],\n      \"properties\": {\n        \"dtype\": \"number\",\n        \"std\": 0.02632006749755258,\n        \"min\": 0.5148842337375965,\n        \"max\": 0.5521064301552107,\n        \"num_unique_values\": 2,\n        \"samples\": [\n          0.5148842337375965,\n          0.5521064301552107\n        ],\n        \"semantic_type\": \"\",\n        \"description\": \"\"\n      }\n    },\n    {\n      \"column\": [\n        \"year\",\n        \"\"\n      ],\n      \"properties\": {\n        \"dtype\": \"number\",\n        \"std\": 0.04410504151895516,\n        \"min\": 2019.8522601984564,\n        \"max\": 2019.9146341463415,\n        \"num_unique_values\": 2,\n        \"samples\": [\n          2019.8522601984564,\n          2019.9146341463415\n        ],\n        \"semantic_type\": \"\",\n        \"description\": \"\"\n      }\n    },\n    {\n      \"column\": [\n        \"month\",\n        \"\"\n      ],\n      \"properties\": {\n        \"dtype\": \"number\",\n        \"std\": 0.9304111880794098,\n        \"min\": 6.013858093126386,\n        \"max\": 7.3296582138919515,\n        \"num_unique_values\": 2,\n        \"samples\": [\n          7.3296582138919515,\n          6.013858093126386\n        ],\n        \"semantic_type\": \"\",\n        \"description\": \"\"\n      }\n    }\n  ]\n}"
            }
          },
          "metadata": {},
          "execution_count": 14
        }
      ]
    },
    {
      "cell_type": "code",
      "source": [],
      "metadata": {
        "id": "03gyIyrF8h2T"
      },
      "execution_count": 14,
      "outputs": []
    },
    {
      "cell_type": "markdown",
      "source": [
        "# First WE Train model for Next Day Price Prediction(regression) and then train model for trend(classification)"
      ],
      "metadata": {
        "id": "wrpLb0kv8iGH"
      }
    },
    {
      "cell_type": "markdown",
      "source": [
        "## Step 2 — Preprocessing\n",
        "**Decisions and why:**  \n",
        "- Keep features: `Open, High, Low, Close, Volume` (multivariate).  \n",
        "- Fill missing values (if any) with forward-fill — keeps chronological consistency.  \n",
        "- Scale features using `MinMaxScaler` (0–1) — LSTMs perform better with scaled inputs.\n"
      ],
      "metadata": {
        "id": "wGG0v0NdCj-Z"
      }
    },
    {
      "cell_type": "code",
      "source": [
        "features = ['Open', 'High', 'Low', 'Close', 'Volume']\n",
        "data = df[features].copy()\n",
        "data = data.ffill().dropna()   # forward fill then drop remaining NaNs if any\n",
        "print(\"After ffill shape:\", data.shape)"
      ],
      "metadata": {
        "colab": {
          "base_uri": "https://localhost:8080/"
        },
        "id": "0xaHKB_yDA3-",
        "outputId": "76bf8b83-8c9e-470e-9904-cd7f3254d431"
      },
      "execution_count": 15,
      "outputs": [
        {
          "output_type": "stream",
          "name": "stdout",
          "text": [
            "After ffill shape: (2711, 5)\n"
          ]
        }
      ]
    },
    {
      "cell_type": "code",
      "source": [
        "import joblib\n",
        "scaler = MinMaxScaler()\n",
        "scaled_data = scaler.fit_transform(data)   # shape (n_days, 5)\n",
        "# Save scaler to reuse in deployment\n",
        "joblib.dump(scaler, os.path.join(MODEL_DIR, \"multiple_input_scaler.gz\"))\n",
        "print(\"Scaler saved.\")"
      ],
      "metadata": {
        "colab": {
          "base_uri": "https://localhost:8080/"
        },
        "id": "JOv9MTojsc4f",
        "outputId": "46ccf2f0-0e5d-48f7-df58-4b8332e3b178"
      },
      "execution_count": 16,
      "outputs": [
        {
          "output_type": "stream",
          "name": "stdout",
          "text": [
            "Scaler saved.\n"
          ]
        }
      ]
    },
    {
      "cell_type": "markdown",
      "source": [
        "## Step 3 — Sequence creation (multivariate)\n",
        "We convert series to supervised sequences:\n",
        "- X: past `SEQ_LEN` days × `n_features`\n",
        "- y: next day `Close` (note: we use the **Close** value as target)\n",
        "**Why:** LSTM/GRU expect 3D input: (samples, timesteps, features).\n"
      ],
      "metadata": {
        "id": "Qzmf_0k8ETq7"
      }
    },
    {
      "cell_type": "code",
      "source": [
        "# Cell 8 — create sequences (multivariate)\n",
        "def create_multivariate_sequences(scaled_array, seq_len):\n",
        "    X, y = [], []\n",
        "    for i in range(seq_len, len(scaled_array)):\n",
        "        X.append(scaled_array[i-seq_len:i, :])   # seq_len x n_features\n",
        "        # target: next-day close (column index for 'Close' is 3 in our features)\n",
        "        y.append(scaled_array[i, features.index('Close')])\n",
        "    X = np.array(X)\n",
        "    y = np.array(y)\n",
        "    return X, y\n",
        "\n",
        "X_all, y_all = create_multivariate_sequences(scaled_data, SEQ_LEN)\n",
        "print(\"X_all shape:\", X_all.shape, \"y_all shape:\", y_all.shape)\n"
      ],
      "metadata": {
        "colab": {
          "base_uri": "https://localhost:8080/"
        },
        "id": "EtOpUtnwuNkL",
        "outputId": "e49bbd2f-3fb2-4e4c-a8ea-1138c56bfa4e"
      },
      "execution_count": 17,
      "outputs": [
        {
          "output_type": "stream",
          "name": "stdout",
          "text": [
            "X_all shape: (2651, 60, 5) y_all shape: (2651,)\n"
          ]
        }
      ]
    },
    {
      "cell_type": "code",
      "source": [
        "y_all\n"
      ],
      "metadata": {
        "colab": {
          "base_uri": "https://localhost:8080/"
        },
        "id": "u4BncLlhx9WC",
        "outputId": "d58ac013-3790-44c9-d178-d2f2c324463a"
      },
      "execution_count": 18,
      "outputs": [
        {
          "output_type": "execute_result",
          "data": {
            "text/plain": [
              "array([0.01189585, 0.01072878, 0.00922061, ..., 0.94355566, 0.9231092 ,\n",
              "       0.95408209])"
            ]
          },
          "metadata": {},
          "execution_count": 18
        }
      ]
    },
    {
      "cell_type": "markdown",
      "source": [
        "## Step 4 — Train / Val / Test split (time-wise)\n",
        "**Important:** For time series we **do not shuffle**. We split by index so future data is not used for training.\n"
      ],
      "metadata": {
        "id": "WpLDWUTQElBl"
      }
    },
    {
      "cell_type": "code",
      "source": [
        "# Cell 9 — time-aware split\n",
        "n = len(X_all)\n",
        "test_size = int(n * TEST_RATIO)\n",
        "val_size = int(n * VAL_RATIO)\n",
        "\n",
        "train_end = n - test_size - val_size\n",
        "val_end = n - test_size\n",
        "\n",
        "X_train, y_train = X_all[:train_end], y_all[:train_end]\n",
        "X_val, y_val = X_all[train_end:val_end], y_all[train_end:val_end]\n",
        "X_test, y_test = X_all[val_end:], y_all[val_end:]\n",
        "\n",
        "print(\"Train:\", X_train.shape, y_train.shape)\n",
        "print(\"Val:  \", X_val.shape, y_val.shape)\n",
        "print(\"Test: \", X_test.shape, y_test.shape)\n"
      ],
      "metadata": {
        "colab": {
          "base_uri": "https://localhost:8080/"
        },
        "id": "IAB31aTP1XzR",
        "outputId": "476b7865-616d-4162-ab36-7cd4f7401746"
      },
      "execution_count": 19,
      "outputs": [
        {
          "output_type": "stream",
          "name": "stdout",
          "text": [
            "Train: (1989, 60, 5) (1989,)\n",
            "Val:   (265, 60, 5) (265,)\n",
            "Test:  (397, 60, 5) (397,)\n"
          ]
        }
      ]
    },
    {
      "cell_type": "code",
      "source": [],
      "metadata": {
        "id": "RU_xO0QC1oai"
      },
      "execution_count": 19,
      "outputs": []
    },
    {
      "cell_type": "code",
      "source": [
        "# Cell 10 — Helper build functions (simple & clear models)\n",
        "def build_lstm(input_shape, units=64, dropout=0.2):\n",
        "    m = Sequential([\n",
        "        LSTM(units, return_sequences=True, input_shape=input_shape),\n",
        "        Dropout(dropout),\n",
        "        LSTM(units//2),\n",
        "        Dropout(dropout),\n",
        "        Dense(1)\n",
        "    ])\n",
        "    return m\n",
        "\n",
        "def build_bilstm(input_shape, units=64, dropout=0.2):\n",
        "    m = Sequential([\n",
        "        Bidirectional(LSTM(units, return_sequences=True), input_shape=input_shape),\n",
        "        Dropout(dropout),\n",
        "        Bidirectional(LSTM(units//2)),\n",
        "        Dropout(dropout),\n",
        "        Dense(1)\n",
        "    ])\n",
        "    return m\n",
        "\n",
        "def build_gru(input_shape, units=64, dropout=0.2):\n",
        "    m = Sequential([\n",
        "        GRU(units, return_sequences=True, input_shape=input_shape),\n",
        "        Dropout(dropout),\n",
        "        GRU(units//2),\n",
        "        Dropout(dropout),\n",
        "        Dense(1)\n",
        "    ])\n",
        "    return m\n"
      ],
      "metadata": {
        "id": "BZIcXDCYFFdb"
      },
      "execution_count": 20,
      "outputs": []
    },
    {
      "cell_type": "markdown",
      "source": [
        "## Step 5 — Compile & Train helper\n",
        "We use `EarlyStopping`, `ReduceLROnPlateau`, and `ModelCheckpoint`.  \n",
        "**Why:** prevents overfitting and saves best model.\n"
      ],
      "metadata": {
        "id": "A3HReSaaFnsy"
      }
    },
    {
      "cell_type": "code",
      "source": [
        "# Cell 11 — training helper\n",
        "def compile_and_train(model, name, X_train, y_train, X_val, y_val, epochs=EPOCHS):\n",
        "    model.compile(optimizer=tf.keras.optimizers.Adam(1e-4), loss='mse', metrics=['mae'])\n",
        "    callbacks = [\n",
        "        EarlyStopping(monitor='val_loss', patience=6, restore_best_weights=True, verbose=1),\n",
        "        ReduceLROnPlateau(monitor='val_loss', factor=0.5, patience=3, min_lr=1e-7, verbose=1),\n",
        "        ModelCheckpoint(os.path.join(MODEL_DIR, f\"{name}.h5\"), monitor='val_loss', save_best_only=True, verbose=1)\n",
        "    ]\n",
        "    history = model.fit(X_train, y_train, validation_data=(X_val, y_val),\n",
        "                        epochs=epochs, batch_size=BATCH, callbacks=callbacks, verbose=2)\n",
        "    return history\n"
      ],
      "metadata": {
        "id": "qUGv7NCqFqf0"
      },
      "execution_count": 21,
      "outputs": []
    },
    {
      "cell_type": "code",
      "source": [
        "# Cell 12 — Build & train LSTM (simple)\n",
        "input_shape = (X_train.shape[1], X_train.shape[2])\n",
        "lstm = build_lstm(input_shape, units=128, dropout=0.2)\n",
        "lstm_hist = compile_and_train(lstm, \"lstm_multifeature\", X_train, y_train, X_val, y_val)\n"
      ],
      "metadata": {
        "colab": {
          "base_uri": "https://localhost:8080/"
        },
        "id": "OzMepqsPFss-",
        "outputId": "564cc0f1-a4b7-43ff-b459-98ef139e680f"
      },
      "execution_count": 22,
      "outputs": [
        {
          "output_type": "stream",
          "name": "stderr",
          "text": [
            "/usr/local/lib/python3.12/dist-packages/keras/src/layers/rnn/rnn.py:199: UserWarning: Do not pass an `input_shape`/`input_dim` argument to a layer. When using Sequential models, prefer using an `Input(shape)` object as the first layer in the model instead.\n",
            "  super().__init__(**kwargs)\n"
          ]
        },
        {
          "output_type": "stream",
          "name": "stdout",
          "text": [
            "Epoch 1/30\n",
            "\n",
            "Epoch 1: val_loss improved from inf to 0.00108, saving model to saved_models/lstm_multifeature.h5\n"
          ]
        },
        {
          "output_type": "stream",
          "name": "stderr",
          "text": [
            "WARNING:absl:You are saving your model as an HDF5 file via `model.save()` or `keras.saving.save_model(model)`. This file format is considered legacy. We recommend using instead the native Keras format, e.g. `model.save('my_model.keras')` or `keras.saving.save_model(model, 'my_model.keras')`. \n"
          ]
        },
        {
          "output_type": "stream",
          "name": "stdout",
          "text": [
            "63/63 - 20s - 325ms/step - loss: 0.0089 - mae: 0.0560 - val_loss: 0.0011 - val_mae: 0.0280 - learning_rate: 1.0000e-04\n",
            "Epoch 2/30\n",
            "\n",
            "Epoch 2: val_loss improved from 0.00108 to 0.00056, saving model to saved_models/lstm_multifeature.h5\n"
          ]
        },
        {
          "output_type": "stream",
          "name": "stderr",
          "text": [
            "WARNING:absl:You are saving your model as an HDF5 file via `model.save()` or `keras.saving.save_model(model)`. This file format is considered legacy. We recommend using instead the native Keras format, e.g. `model.save('my_model.keras')` or `keras.saving.save_model(model, 'my_model.keras')`. \n"
          ]
        },
        {
          "output_type": "stream",
          "name": "stdout",
          "text": [
            "63/63 - 8s - 127ms/step - loss: 8.5139e-04 - mae: 0.0201 - val_loss: 5.6262e-04 - val_mae: 0.0182 - learning_rate: 1.0000e-04\n",
            "Epoch 3/30\n",
            "\n",
            "Epoch 3: val_loss did not improve from 0.00056\n",
            "63/63 - 6s - 101ms/step - loss: 8.6005e-04 - mae: 0.0192 - val_loss: 6.3702e-04 - val_mae: 0.0204 - learning_rate: 1.0000e-04\n",
            "Epoch 4/30\n",
            "\n",
            "Epoch 4: val_loss improved from 0.00056 to 0.00053, saving model to saved_models/lstm_multifeature.h5\n"
          ]
        },
        {
          "output_type": "stream",
          "name": "stderr",
          "text": [
            "WARNING:absl:You are saving your model as an HDF5 file via `model.save()` or `keras.saving.save_model(model)`. This file format is considered legacy. We recommend using instead the native Keras format, e.g. `model.save('my_model.keras')` or `keras.saving.save_model(model, 'my_model.keras')`. \n"
          ]
        },
        {
          "output_type": "stream",
          "name": "stdout",
          "text": [
            "63/63 - 10s - 163ms/step - loss: 7.5302e-04 - mae: 0.0185 - val_loss: 5.3369e-04 - val_mae: 0.0183 - learning_rate: 1.0000e-04\n",
            "Epoch 5/30\n",
            "\n",
            "Epoch 5: ReduceLROnPlateau reducing learning rate to 4.999999873689376e-05.\n",
            "\n",
            "Epoch 5: val_loss improved from 0.00053 to 0.00050, saving model to saved_models/lstm_multifeature.h5\n"
          ]
        },
        {
          "output_type": "stream",
          "name": "stderr",
          "text": [
            "WARNING:absl:You are saving your model as an HDF5 file via `model.save()` or `keras.saving.save_model(model)`. This file format is considered legacy. We recommend using instead the native Keras format, e.g. `model.save('my_model.keras')` or `keras.saving.save_model(model, 'my_model.keras')`. \n"
          ]
        },
        {
          "output_type": "stream",
          "name": "stdout",
          "text": [
            "63/63 - 8s - 127ms/step - loss: 6.8365e-04 - mae: 0.0177 - val_loss: 4.9810e-04 - val_mae: 0.0172 - learning_rate: 1.0000e-04\n",
            "Epoch 6/30\n",
            "\n",
            "Epoch 6: val_loss did not improve from 0.00050\n",
            "63/63 - 9s - 139ms/step - loss: 6.8830e-04 - mae: 0.0176 - val_loss: 5.3052e-04 - val_mae: 0.0183 - learning_rate: 5.0000e-05\n",
            "Epoch 7/30\n",
            "\n",
            "Epoch 7: val_loss did not improve from 0.00050\n",
            "63/63 - 8s - 127ms/step - loss: 7.3082e-04 - mae: 0.0181 - val_loss: 5.4588e-04 - val_mae: 0.0186 - learning_rate: 5.0000e-05\n",
            "Epoch 8/30\n",
            "\n",
            "Epoch 8: ReduceLROnPlateau reducing learning rate to 2.499999936844688e-05.\n",
            "\n",
            "Epoch 8: val_loss improved from 0.00050 to 0.00047, saving model to saved_models/lstm_multifeature.h5\n"
          ]
        },
        {
          "output_type": "stream",
          "name": "stderr",
          "text": [
            "WARNING:absl:You are saving your model as an HDF5 file via `model.save()` or `keras.saving.save_model(model)`. This file format is considered legacy. We recommend using instead the native Keras format, e.g. `model.save('my_model.keras')` or `keras.saving.save_model(model, 'my_model.keras')`. \n"
          ]
        },
        {
          "output_type": "stream",
          "name": "stdout",
          "text": [
            "63/63 - 10s - 162ms/step - loss: 6.4376e-04 - mae: 0.0172 - val_loss: 4.7242e-04 - val_mae: 0.0170 - learning_rate: 5.0000e-05\n",
            "Epoch 9/30\n",
            "\n",
            "Epoch 9: val_loss did not improve from 0.00047\n",
            "63/63 - 7s - 104ms/step - loss: 6.1913e-04 - mae: 0.0165 - val_loss: 5.1770e-04 - val_mae: 0.0180 - learning_rate: 2.5000e-05\n",
            "Epoch 10/30\n",
            "\n",
            "Epoch 10: val_loss did not improve from 0.00047\n",
            "63/63 - 8s - 126ms/step - loss: 6.4886e-04 - mae: 0.0170 - val_loss: 4.7657e-04 - val_mae: 0.0171 - learning_rate: 2.5000e-05\n",
            "Epoch 11/30\n",
            "\n",
            "Epoch 11: ReduceLROnPlateau reducing learning rate to 1.249999968422344e-05.\n",
            "\n",
            "Epoch 11: val_loss did not improve from 0.00047\n",
            "63/63 - 11s - 168ms/step - loss: 6.8296e-04 - mae: 0.0175 - val_loss: 4.7527e-04 - val_mae: 0.0171 - learning_rate: 2.5000e-05\n",
            "Epoch 12/30\n",
            "\n",
            "Epoch 12: val_loss did not improve from 0.00047\n",
            "63/63 - 8s - 133ms/step - loss: 6.3113e-04 - mae: 0.0169 - val_loss: 5.1016e-04 - val_mae: 0.0179 - learning_rate: 1.2500e-05\n",
            "Epoch 13/30\n",
            "\n",
            "Epoch 13: val_loss did not improve from 0.00047\n",
            "63/63 - 10s - 164ms/step - loss: 6.4051e-04 - mae: 0.0170 - val_loss: 5.3838e-04 - val_mae: 0.0185 - learning_rate: 1.2500e-05\n",
            "Epoch 14/30\n",
            "\n",
            "Epoch 14: ReduceLROnPlateau reducing learning rate to 6.24999984211172e-06.\n",
            "\n",
            "Epoch 14: val_loss did not improve from 0.00047\n",
            "63/63 - 8s - 129ms/step - loss: 6.2468e-04 - mae: 0.0166 - val_loss: 4.9070e-04 - val_mae: 0.0174 - learning_rate: 1.2500e-05\n",
            "Epoch 14: early stopping\n",
            "Restoring model weights from the end of the best epoch: 8.\n"
          ]
        }
      ]
    },
    {
      "cell_type": "code",
      "source": [
        "# Cell 13 — Build & train BiLSTM\n",
        "bilstm = build_bilstm(input_shape, units=128, dropout=0.2)\n",
        "bilstm_hist = compile_and_train(bilstm, \"bilstm_multifeature\", X_train, y_train, X_val, y_val)\n"
      ],
      "metadata": {
        "colab": {
          "base_uri": "https://localhost:8080/"
        },
        "id": "sIhkxojvF9q1",
        "outputId": "b9013aa7-19d4-4160-c923-dba08d85f6d3"
      },
      "execution_count": 23,
      "outputs": [
        {
          "output_type": "stream",
          "name": "stdout",
          "text": [
            "Epoch 1/30\n"
          ]
        },
        {
          "output_type": "stream",
          "name": "stderr",
          "text": [
            "/usr/local/lib/python3.12/dist-packages/keras/src/layers/rnn/bidirectional.py:107: UserWarning: Do not pass an `input_shape`/`input_dim` argument to a layer. When using Sequential models, prefer using an `Input(shape)` object as the first layer in the model instead.\n",
            "  super().__init__(**kwargs)\n"
          ]
        },
        {
          "output_type": "stream",
          "name": "stdout",
          "text": [
            "\n",
            "Epoch 1: val_loss improved from inf to 0.00092, saving model to saved_models/bilstm_multifeature.h5\n"
          ]
        },
        {
          "output_type": "stream",
          "name": "stderr",
          "text": [
            "WARNING:absl:You are saving your model as an HDF5 file via `model.save()` or `keras.saving.save_model(model)`. This file format is considered legacy. We recommend using instead the native Keras format, e.g. `model.save('my_model.keras')` or `keras.saving.save_model(model, 'my_model.keras')`. \n"
          ]
        },
        {
          "output_type": "stream",
          "name": "stdout",
          "text": [
            "63/63 - 23s - 368ms/step - loss: 0.0037 - mae: 0.0372 - val_loss: 9.2475e-04 - val_mae: 0.0242 - learning_rate: 1.0000e-04\n",
            "Epoch 2/30\n",
            "\n",
            "Epoch 2: val_loss did not improve from 0.00092\n",
            "63/63 - 17s - 275ms/step - loss: 0.0010 - mae: 0.0217 - val_loss: 9.8218e-04 - val_mae: 0.0257 - learning_rate: 1.0000e-04\n",
            "Epoch 3/30\n",
            "\n",
            "Epoch 3: val_loss did not improve from 0.00092\n",
            "63/63 - 17s - 271ms/step - loss: 8.1141e-04 - mae: 0.0192 - val_loss: 9.7841e-04 - val_mae: 0.0259 - learning_rate: 1.0000e-04\n",
            "Epoch 4/30\n",
            "\n",
            "Epoch 4: val_loss improved from 0.00092 to 0.00082, saving model to saved_models/bilstm_multifeature.h5\n"
          ]
        },
        {
          "output_type": "stream",
          "name": "stderr",
          "text": [
            "WARNING:absl:You are saving your model as an HDF5 file via `model.save()` or `keras.saving.save_model(model)`. This file format is considered legacy. We recommend using instead the native Keras format, e.g. `model.save('my_model.keras')` or `keras.saving.save_model(model, 'my_model.keras')`. \n"
          ]
        },
        {
          "output_type": "stream",
          "name": "stdout",
          "text": [
            "63/63 - 21s - 333ms/step - loss: 6.8542e-04 - mae: 0.0177 - val_loss: 8.2462e-04 - val_mae: 0.0234 - learning_rate: 1.0000e-04\n",
            "Epoch 5/30\n",
            "\n",
            "Epoch 5: val_loss improved from 0.00082 to 0.00058, saving model to saved_models/bilstm_multifeature.h5\n"
          ]
        },
        {
          "output_type": "stream",
          "name": "stderr",
          "text": [
            "WARNING:absl:You are saving your model as an HDF5 file via `model.save()` or `keras.saving.save_model(model)`. This file format is considered legacy. We recommend using instead the native Keras format, e.g. `model.save('my_model.keras')` or `keras.saving.save_model(model, 'my_model.keras')`. \n"
          ]
        },
        {
          "output_type": "stream",
          "name": "stdout",
          "text": [
            "63/63 - 16s - 259ms/step - loss: 6.3418e-04 - mae: 0.0169 - val_loss: 5.7566e-04 - val_mae: 0.0188 - learning_rate: 1.0000e-04\n",
            "Epoch 6/30\n",
            "\n",
            "Epoch 6: val_loss improved from 0.00058 to 0.00046, saving model to saved_models/bilstm_multifeature.h5\n"
          ]
        },
        {
          "output_type": "stream",
          "name": "stderr",
          "text": [
            "WARNING:absl:You are saving your model as an HDF5 file via `model.save()` or `keras.saving.save_model(model)`. This file format is considered legacy. We recommend using instead the native Keras format, e.g. `model.save('my_model.keras')` or `keras.saving.save_model(model, 'my_model.keras')`. \n"
          ]
        },
        {
          "output_type": "stream",
          "name": "stdout",
          "text": [
            "63/63 - 20s - 323ms/step - loss: 6.6510e-04 - mae: 0.0172 - val_loss: 4.5557e-04 - val_mae: 0.0162 - learning_rate: 1.0000e-04\n",
            "Epoch 7/30\n",
            "\n",
            "Epoch 7: val_loss improved from 0.00046 to 0.00041, saving model to saved_models/bilstm_multifeature.h5\n"
          ]
        },
        {
          "output_type": "stream",
          "name": "stderr",
          "text": [
            "WARNING:absl:You are saving your model as an HDF5 file via `model.save()` or `keras.saving.save_model(model)`. This file format is considered legacy. We recommend using instead the native Keras format, e.g. `model.save('my_model.keras')` or `keras.saving.save_model(model, 'my_model.keras')`. \n"
          ]
        },
        {
          "output_type": "stream",
          "name": "stdout",
          "text": [
            "63/63 - 18s - 283ms/step - loss: 5.5739e-04 - mae: 0.0157 - val_loss: 4.0912e-04 - val_mae: 0.0151 - learning_rate: 1.0000e-04\n",
            "Epoch 8/30\n",
            "\n",
            "Epoch 8: val_loss did not improve from 0.00041\n",
            "63/63 - 16s - 257ms/step - loss: 5.0906e-04 - mae: 0.0155 - val_loss: 4.2649e-04 - val_mae: 0.0158 - learning_rate: 1.0000e-04\n",
            "Epoch 9/30\n",
            "\n",
            "Epoch 9: ReduceLROnPlateau reducing learning rate to 4.999999873689376e-05.\n",
            "\n",
            "Epoch 9: val_loss improved from 0.00041 to 0.00038, saving model to saved_models/bilstm_multifeature.h5\n"
          ]
        },
        {
          "output_type": "stream",
          "name": "stderr",
          "text": [
            "WARNING:absl:You are saving your model as an HDF5 file via `model.save()` or `keras.saving.save_model(model)`. This file format is considered legacy. We recommend using instead the native Keras format, e.g. `model.save('my_model.keras')` or `keras.saving.save_model(model, 'my_model.keras')`. \n"
          ]
        },
        {
          "output_type": "stream",
          "name": "stdout",
          "text": [
            "63/63 - 16s - 256ms/step - loss: 4.8382e-04 - mae: 0.0148 - val_loss: 3.8320e-04 - val_mae: 0.0146 - learning_rate: 1.0000e-04\n",
            "Epoch 10/30\n",
            "\n",
            "Epoch 10: val_loss did not improve from 0.00038\n",
            "63/63 - 16s - 258ms/step - loss: 4.7374e-04 - mae: 0.0146 - val_loss: 4.2701e-04 - val_mae: 0.0160 - learning_rate: 5.0000e-05\n",
            "Epoch 11/30\n",
            "\n",
            "Epoch 11: val_loss did not improve from 0.00038\n",
            "63/63 - 18s - 281ms/step - loss: 4.5891e-04 - mae: 0.0147 - val_loss: 3.8694e-04 - val_mae: 0.0150 - learning_rate: 5.0000e-05\n",
            "Epoch 12/30\n",
            "\n",
            "Epoch 12: ReduceLROnPlateau reducing learning rate to 2.499999936844688e-05.\n",
            "\n",
            "Epoch 12: val_loss did not improve from 0.00038\n",
            "63/63 - 16s - 257ms/step - loss: 4.9422e-04 - mae: 0.0149 - val_loss: 5.0646e-04 - val_mae: 0.0179 - learning_rate: 5.0000e-05\n",
            "Epoch 13/30\n",
            "\n",
            "Epoch 13: val_loss did not improve from 0.00038\n",
            "63/63 - 21s - 335ms/step - loss: 4.4626e-04 - mae: 0.0143 - val_loss: 4.6325e-04 - val_mae: 0.0170 - learning_rate: 2.5000e-05\n",
            "Epoch 14/30\n",
            "\n",
            "Epoch 14: val_loss did not improve from 0.00038\n",
            "63/63 - 17s - 272ms/step - loss: 4.6790e-04 - mae: 0.0146 - val_loss: 3.8689e-04 - val_mae: 0.0151 - learning_rate: 2.5000e-05\n",
            "Epoch 15/30\n",
            "\n",
            "Epoch 15: ReduceLROnPlateau reducing learning rate to 1.249999968422344e-05.\n",
            "\n",
            "Epoch 15: val_loss did not improve from 0.00038\n",
            "63/63 - 16s - 259ms/step - loss: 4.3643e-04 - mae: 0.0143 - val_loss: 4.1088e-04 - val_mae: 0.0157 - learning_rate: 2.5000e-05\n",
            "Epoch 15: early stopping\n",
            "Restoring model weights from the end of the best epoch: 9.\n"
          ]
        }
      ]
    },
    {
      "cell_type": "code",
      "source": [
        "# Cell 14 — Build & train GRU\n",
        "gru = build_gru(input_shape, units=128, dropout=0.2)\n",
        "gru_hist = compile_and_train(gru, \"gru_multifeature\", X_train, y_train, X_val, y_val)\n"
      ],
      "metadata": {
        "colab": {
          "base_uri": "https://localhost:8080/"
        },
        "id": "ZA3FblAuGOPy",
        "outputId": "c7ca3c07-2ed9-4239-b8f8-e8fbcd12e21d"
      },
      "execution_count": 24,
      "outputs": [
        {
          "output_type": "stream",
          "name": "stdout",
          "text": [
            "Epoch 1/30\n",
            "\n",
            "Epoch 1: val_loss improved from inf to 0.00028, saving model to saved_models/gru_multifeature.h5\n"
          ]
        },
        {
          "output_type": "stream",
          "name": "stderr",
          "text": [
            "WARNING:absl:You are saving your model as an HDF5 file via `model.save()` or `keras.saving.save_model(model)`. This file format is considered legacy. We recommend using instead the native Keras format, e.g. `model.save('my_model.keras')` or `keras.saving.save_model(model, 'my_model.keras')`. \n"
          ]
        },
        {
          "output_type": "stream",
          "name": "stdout",
          "text": [
            "63/63 - 12s - 194ms/step - loss: 0.0055 - mae: 0.0496 - val_loss: 2.8445e-04 - val_mae: 0.0136 - learning_rate: 1.0000e-04\n",
            "Epoch 2/30\n",
            "\n",
            "Epoch 2: val_loss did not improve from 0.00028\n",
            "63/63 - 6s - 102ms/step - loss: 0.0015 - mae: 0.0257 - val_loss: 4.6967e-04 - val_mae: 0.0181 - learning_rate: 1.0000e-04\n",
            "Epoch 3/30\n",
            "\n",
            "Epoch 3: val_loss improved from 0.00028 to 0.00023, saving model to saved_models/gru_multifeature.h5\n"
          ]
        },
        {
          "output_type": "stream",
          "name": "stderr",
          "text": [
            "WARNING:absl:You are saving your model as an HDF5 file via `model.save()` or `keras.saving.save_model(model)`. This file format is considered legacy. We recommend using instead the native Keras format, e.g. `model.save('my_model.keras')` or `keras.saving.save_model(model, 'my_model.keras')`. \n"
          ]
        },
        {
          "output_type": "stream",
          "name": "stdout",
          "text": [
            "63/63 - 8s - 125ms/step - loss: 0.0011 - mae: 0.0219 - val_loss: 2.3236e-04 - val_mae: 0.0118 - learning_rate: 1.0000e-04\n",
            "Epoch 4/30\n",
            "\n",
            "Epoch 4: ReduceLROnPlateau reducing learning rate to 4.999999873689376e-05.\n",
            "\n",
            "Epoch 4: val_loss did not improve from 0.00023\n",
            "63/63 - 7s - 116ms/step - loss: 9.3152e-04 - mae: 0.0202 - val_loss: 2.7279e-04 - val_mae: 0.0130 - learning_rate: 1.0000e-04\n",
            "Epoch 5/30\n",
            "\n",
            "Epoch 5: val_loss did not improve from 0.00023\n",
            "63/63 - 7s - 112ms/step - loss: 8.5653e-04 - mae: 0.0191 - val_loss: 2.3698e-04 - val_mae: 0.0119 - learning_rate: 5.0000e-05\n",
            "Epoch 6/30\n",
            "\n",
            "Epoch 6: val_loss did not improve from 0.00023\n",
            "63/63 - 8s - 125ms/step - loss: 8.4917e-04 - mae: 0.0194 - val_loss: 3.5869e-04 - val_mae: 0.0155 - learning_rate: 5.0000e-05\n",
            "Epoch 7/30\n",
            "\n",
            "Epoch 7: ReduceLROnPlateau reducing learning rate to 2.499999936844688e-05.\n",
            "\n",
            "Epoch 7: val_loss did not improve from 0.00023\n",
            "63/63 - 9s - 140ms/step - loss: 7.8595e-04 - mae: 0.0189 - val_loss: 2.3350e-04 - val_mae: 0.0118 - learning_rate: 5.0000e-05\n",
            "Epoch 8/30\n",
            "\n",
            "Epoch 8: val_loss did not improve from 0.00023\n",
            "63/63 - 10s - 160ms/step - loss: 7.8341e-04 - mae: 0.0185 - val_loss: 2.5092e-04 - val_mae: 0.0124 - learning_rate: 2.5000e-05\n",
            "Epoch 9/30\n",
            "\n",
            "Epoch 9: val_loss did not improve from 0.00023\n",
            "63/63 - 11s - 171ms/step - loss: 7.7319e-04 - mae: 0.0183 - val_loss: 2.5756e-04 - val_mae: 0.0126 - learning_rate: 2.5000e-05\n",
            "Epoch 9: early stopping\n",
            "Restoring model weights from the end of the best epoch: 3.\n"
          ]
        }
      ]
    },
    {
      "cell_type": "code",
      "source": [],
      "metadata": {
        "id": "emnT2oIbGrlg"
      },
      "execution_count": 24,
      "outputs": []
    },
    {
      "cell_type": "markdown",
      "source": [
        "## Evaluation: metrics on test set\n",
        "We compute RMSE, MAE, and R² on the **original price scale** (inverse transform).\n"
      ],
      "metadata": {
        "id": "cqLZdRXEGx7z"
      }
    },
    {
      "cell_type": "code",
      "source": [
        "# Cell 16 — evaluation helper (inverse transform predictions)\n",
        "def invert_and_metrics(model, X, y_scaled, scaler, feature_index=features.index('Close')):\n",
        "    preds_scaled = model.predict(X)\n",
        "    # preds_scaled shape (n,1)\n",
        "    preds_full = np.zeros((len(preds_scaled), scaled_data.shape[1]))  # create placeholder\n",
        "    preds_full[:, feature_index] = preds_scaled[:,0]\n",
        "    preds_inv = scaler.inverse_transform(preds_full)[:, feature_index]\n",
        "\n",
        "    y_full = np.zeros((len(y_scaled), scaled_data.shape[1]))\n",
        "    y_full[:, feature_index] = y_scaled\n",
        "    y_inv = scaler.inverse_transform(y_full)[:, feature_index]\n",
        "\n",
        "    rmse = math.sqrt(mean_squared_error(y_inv, preds_inv))\n",
        "    mae = mean_absolute_error(y_inv, preds_inv)\n",
        "    r2 = r2_score(y_inv, preds_inv)\n",
        "    return preds_inv, y_inv, rmse, mae, r2\n",
        "\n",
        "# Evaluate LSTM\n",
        "lstm_pred, y_test_inv, lstm_rmse, lstm_mae, lstm_r2 = invert_and_metrics(lstm, X_test, y_test, scaler)\n",
        "print(\"LSTM -> RMSE: {:.3f}, MAE: {:.3f}, R2: {:.3f}\".format(lstm_rmse, lstm_mae, lstm_r2))\n",
        "\n",
        "# Evaluate BiLSTM\n",
        "bilstm_pred, _, bilstm_rmse, bilstm_mae, bilstm_r2 = invert_and_metrics(bilstm, X_test, y_test, scaler)\n",
        "print(\"BiLSTM -> RMSE: {:.3f}, MAE: {:.3f}, R2: {:.3f}\".format(bilstm_rmse, bilstm_mae, bilstm_r2))\n",
        "\n",
        "# Evaluate GRU\n",
        "gru_pred, _, gru_rmse, gru_mae, gru_r2 = invert_and_metrics(gru, X_test, y_test, scaler)\n",
        "print(\"GRU -> RMSE: {:.3f}, MAE: {:.3f}, R2: {:.3f}\".format(gru_rmse, gru_mae, gru_r2))\n"
      ],
      "metadata": {
        "colab": {
          "base_uri": "https://localhost:8080/"
        },
        "id": "tDFIJNu3GycR",
        "outputId": "e1bc2070-20a2-4b97-b0c0-a4aa289d16fa"
      },
      "execution_count": 25,
      "outputs": [
        {
          "output_type": "stream",
          "name": "stdout",
          "text": [
            "\u001b[1m13/13\u001b[0m \u001b[32m━━━━━━━━━━━━━━━━━━━━\u001b[0m\u001b[37m\u001b[0m \u001b[1m1s\u001b[0m 69ms/step\n",
            "LSTM -> RMSE: 9.990, MAE: 7.731, R2: 0.817\n",
            "\u001b[1m13/13\u001b[0m \u001b[32m━━━━━━━━━━━━━━━━━━━━\u001b[0m\u001b[37m\u001b[0m \u001b[1m3s\u001b[0m 168ms/step\n",
            "BiLSTM -> RMSE: 9.113, MAE: 7.096, R2: 0.848\n",
            "\u001b[1m13/13\u001b[0m \u001b[32m━━━━━━━━━━━━━━━━━━━━\u001b[0m\u001b[37m\u001b[0m \u001b[1m1s\u001b[0m 53ms/step\n",
            "GRU -> RMSE: 5.700, MAE: 4.329, R2: 0.941\n"
          ]
        }
      ]
    },
    {
      "cell_type": "markdown",
      "source": [
        "## Visualize predictions vs actual (test set)\n",
        "Plot results to visually check how well models track real prices.\n"
      ],
      "metadata": {
        "id": "FsjO9n0LG-Y_"
      }
    },
    {
      "cell_type": "code",
      "source": [
        "# Cell 17 — plot helper (last N points)\n",
        "def plot_compare(y_true, preds, title, last_n=200):\n",
        "    plt.figure(figsize=(12,4))\n",
        "    plt.plot(y_true[-last_n:], label='Actual')\n",
        "    plt.plot(preds[-last_n:], label='Predicted')\n",
        "    plt.title(title)\n",
        "    plt.legend()\n",
        "    plt.show()\n",
        "\n",
        "plot_compare(y_test_inv, lstm_pred, \"LSTM: Actual vs Predicted (Test)\", last_n=200)\n",
        "plot_compare(y_test_inv, bilstm_pred, \"BiLSTM: Actual vs Predicted (Test)\", last_n=200)\n",
        "plot_compare(y_test_inv, gru_pred, \"GRU: Actual vs Predicted (Test)\", last_n=200)\n"
      ],
      "metadata": {
        "colab": {
          "base_uri": "https://localhost:8080/",
          "height": 1000
        },
        "id": "B3bpT6oTG1ln",
        "outputId": "9352c4df-51d4-4b0e-e21a-76314e60a25f"
      },
      "execution_count": 26,
      "outputs": [
        {
          "output_type": "display_data",
          "data": {
            "text/plain": [
              "<Figure size 1200x400 with 1 Axes>"
            ],
            "image/png": "[encoded data removed]"
          },
          "metadata": {}
        },
        {
          "output_type": "display_data",
          "data": {
            "text/plain": [
              "<Figure size 1200x400 with 1 Axes>"
            ],
            "image/png": "[encoded data removed]"
          },
          "metadata": {}
        },
        {
          "output_type": "display_data",
          "data": {
            "text/plain": [
              "<Figure size 1200x400 with 1 Axes>"
            ],
            "image/png": "[encoded data removed]"
          },
          "metadata": {}
        }
      ]
    },
    {
      "cell_type": "markdown",
      "source": [
        "## Choose best model for forecasting\n",
        "We choose GRU:\n",
        "Why because rmse of gru is lower than other models which is only 6.176"
      ],
      "metadata": {
        "id": "XAGH2J9kHebU"
      }
    },
    {
      "cell_type": "code",
      "source": [
        "# Cell 18 — pick best by RMSE\n",
        "rmse_dict = {'lstm': lstm_rmse, 'bilstm': bilstm_rmse, 'gru': gru_rmse}\n",
        "best_name = min(rmse_dict, key=rmse_dict.get)\n",
        "print(\"Best model by RMSE:\", best_name, rmse_dict)\n",
        "best_model = {'lstm': lstm, 'bilstm': bilstm, 'gru': gru}[best_name]\n"
      ],
      "metadata": {
        "colab": {
          "base_uri": "https://localhost:8080/"
        },
        "id": "yRUzSCoVHjKn",
        "outputId": "7a072a27-6bbb-4e77-f88f-4b223e233eec"
      },
      "execution_count": 27,
      "outputs": [
        {
          "output_type": "stream",
          "name": "stdout",
          "text": [
            "Best model by RMSE: gru {'lstm': 9.990477800103728, 'bilstm': 9.112584394343472, 'gru': 5.69995897188099}\n"
          ]
        }
      ]
    },
    {
      "cell_type": "markdown",
      "source": [
        "## Save best model for UI deployment\n",
        "We already saved checkpoints during training; save best final copy and scaler (done earlier). This allows a Streamlit to load model + scaler and return predictions.\n"
      ],
      "metadata": {
        "id": "rHZbOt52ImwM"
      }
    },
    {
      "cell_type": "code",
      "source": [
        "# Cell 20 — save best model name explicitly\n",
        "best_model.save(os.path.join(MODEL_DIR, f\"best_model_{best_name}.h5\"))\n",
        "print(\"Saved best model:\", os.path.join(MODEL_DIR, f\"best_model_{best_name}.h5\"))\n"
      ],
      "metadata": {
        "colab": {
          "base_uri": "https://localhost:8080/"
        },
        "id": "YxjgxmEbIli6",
        "outputId": "19b716cf-de00-4ecb-c765-7c422f7ab8ad"
      },
      "execution_count": 30,
      "outputs": [
        {
          "output_type": "stream",
          "name": "stderr",
          "text": [
            "WARNING:absl:You are saving your model as an HDF5 file via `model.save()` or `keras.saving.save_model(model)`. This file format is considered legacy. We recommend using instead the native Keras format, e.g. `model.save('my_model.keras')` or `keras.saving.save_model(model, 'my_model.keras')`. \n"
          ]
        },
        {
          "output_type": "stream",
          "name": "stdout",
          "text": [
            "Saved best model: saved_models/best_model_gru.h5\n"
          ]
        }
      ]
    }
  ]
}